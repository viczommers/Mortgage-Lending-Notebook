{
 "cells": [
  {
   "cell_type": "markdown",
   "metadata": {
    "id": "qegDOxuSuaj-"
   },
   "source": [
    "# **Tracking Residential Mortgage Lending across UK Banking Sector**\n",
    "---\n",
    "This is an interactive Jupyter notebook that uses API socket to extract latest & historic lending series from [Bank of England's Interactive Database (IADB)](https://www.bankofengland.co.uk/boeapps/database/). Holdings of Mortgage securities and Lending data are aggregated across all UK Resident Banks (Monetary Financial Institutions); <br>[![Open In Colab](https://colab.research.google.com/assets/colab-badge.svg)](https://colab.research.google.com/drive/1cVYFSh35U2sVySf9CBrQzQ1xPj-cXmz4?usp=sharing)\n",
    "___\n",
    "Notebook covers:\n",
    "* Gross Bank lending to individuals (secured on dwelling), NSA [(Series Code: LPQB3VB)](https://www.bankofengland.co.uk/boeapps/database/FromShowColumns.asp?Travel=&searchText=LPQB3VB)\n",
    "* Amounts outstanding of structured mortgage securities (assets) held on Banks' balance sheets, NSA [(Series Code: LPMB7GT)](https://www.bankofengland.co.uk/boeapps/database/FromShowColumns.asp?Travel=&searchText=LPMB7GT)\n",
    "* Value of total mortgage approvals issued to households, SA [(Series Code: LPQVTVQ)](https://www.bankofengland.co.uk/boeapps/database/FromShowColumns.asp?Travel=&searchText=LPQVTVQ)\n",
    "* Write-offs of Bank mortgage lending (i.e. technical defaults & bad credit provisions), NSA [(Series Code: RPQTFHD)](https://www.bankofengland.co.uk/boeapps/database/FromShowColumns.asp?Travel=&searchText=RPQTFHD)\n",
    "* Average Quarterly BOE Bank Rate, NSA [(Series Code: IUQABEDR)](https://www.bankofengland.co.uk/boeapps/database/FromShowColumns.asp?Travel=&searchText=IUQABEDR)\n",
    "\n",
    "All values are displayed in £ millions\n",
    "___\n",
    "## **How BOE bank rate impacts density of lending and holdings of securities?**\n",
    "[Section 3](#Anchor_Section3) of notebook plots mortgage series scatter plot and distribution curve from all historic data points in a selected target range of BOE Bank Rate.\n",
    "___\n",
    "Developed by Victor Zommers | [Check out other dashboards](https://sites.google.com/view/victor-zommers/)"
   ]
  },
  {
   "cell_type": "markdown",
   "metadata": {
    "id": "zqEMDGtS8keP"
   },
   "source": [
    "## **Section 1: Data Preparation**"
   ]
  },
  {
   "cell_type": "markdown",
   "metadata": {
    "id": "CCuApX-ZBgA-"
   },
   "source": [
    "<a name=\"Anchor_Section1\"></a>\n",
    "### **Import required packages:**\n",
    "---"
   ]
  },
  {
   "cell_type": "code",
   "execution_count": 1,
   "metadata": {
    "id": "W5xloKCT-I9q"
   },
   "outputs": [],
   "source": [
    "#!pip install requests #and other packages needed\n",
    "import requests\n",
    "import io\n",
    "import scipy\n",
    "import datetime\n",
    "from datetime import timedelta\n",
    "import urllib3\n",
    "import warnings\n",
    "warnings.filterwarnings('ignore')\n",
    "urllib3.disable_warnings(urllib3.exceptions.InsecureRequestWarning)\n",
    "\n",
    "import numpy as np\n",
    "import pandas as pd\n",
    "import plotly.graph_objs as go\n",
    "from plotly.subplots import make_subplots\n",
    "from scipy.stats import gaussian_kde\n",
    "from ipywidgets import interact, FloatRangeSlider, Dropdown"
   ]
  },
  {
   "cell_type": "markdown",
   "metadata": {
    "id": "C7c_f0CY9Tx4"
   },
   "source": [
    "<a name=\"Anchor_Section2\"></a>\n",
    "### **Extact & Transform Mortgage data from API request**\n",
    "---\n",
    "We will also create 2 custom series:\n",
    "\n",
    "*   **Sec_Pct** - gross lending as % of all securtised mortgages held by banks (new lending as % of total mortgage assets)\n",
    "*   **Write_Pct** - Bad loans as a % of all securtised mortgages held by banks (defaults as % of total mortgage assets)\n",
    "\n"
   ]
  },
  {
   "cell_type": "code",
   "execution_count": 2,
   "metadata": {
    "colab": {
     "base_uri": "https://localhost:8080/",
     "height": 206
    },
    "id": "8iOfHHBJ-PTY",
    "outputId": "288abd5a-6117-49c8-c42d-3009a0c3faf1"
   },
   "outputs": [
    {
     "data": {
      "text/html": [
       "<div>\n",
       "<style scoped>\n",
       "    .dataframe tbody tr th:only-of-type {\n",
       "        vertical-align: middle;\n",
       "    }\n",
       "\n",
       "    .dataframe tbody tr th {\n",
       "        vertical-align: top;\n",
       "    }\n",
       "\n",
       "    .dataframe thead th {\n",
       "        text-align: right;\n",
       "    }\n",
       "</style>\n",
       "<table border=\"1\" class=\"dataframe\">\n",
       "  <thead>\n",
       "    <tr style=\"text-align: right;\">\n",
       "      <th></th>\n",
       "      <th>DATE</th>\n",
       "      <th>IUQABEDR</th>\n",
       "      <th>LPQB3VB</th>\n",
       "      <th>LPQVTVQ</th>\n",
       "      <th>LPMB7GT</th>\n",
       "      <th>RPQTFHD</th>\n",
       "      <th>LPMB8GO</th>\n",
       "      <th>Quarter</th>\n",
       "      <th>LPQB7GT</th>\n",
       "      <th>LPQB8GO</th>\n",
       "      <th>Sec_Pct</th>\n",
       "      <th>Write_Pct</th>\n",
       "    </tr>\n",
       "  </thead>\n",
       "  <tbody>\n",
       "    <tr>\n",
       "      <th>225</th>\n",
       "      <td>2023-03-31</td>\n",
       "      <td>3.8555</td>\n",
       "      <td>54359.0</td>\n",
       "      <td>47663.0</td>\n",
       "      <td>39859.0</td>\n",
       "      <td>13.0</td>\n",
       "      <td>-573.0</td>\n",
       "      <td>2023 Q1</td>\n",
       "      <td>120687.0</td>\n",
       "      <td>-838.0</td>\n",
       "      <td>45.041305</td>\n",
       "      <td>0.010772</td>\n",
       "    </tr>\n",
       "    <tr>\n",
       "      <th>228</th>\n",
       "      <td>2023-06-30</td>\n",
       "      <td>4.4583</td>\n",
       "      <td>47843.0</td>\n",
       "      <td>57135.0</td>\n",
       "      <td>42836.0</td>\n",
       "      <td>13.0</td>\n",
       "      <td>-141.0</td>\n",
       "      <td>2023 Q2</td>\n",
       "      <td>126092.0</td>\n",
       "      <td>2977.0</td>\n",
       "      <td>37.942931</td>\n",
       "      <td>0.010310</td>\n",
       "    </tr>\n",
       "    <tr>\n",
       "      <th>231</th>\n",
       "      <td>2023-09-30</td>\n",
       "      <td>5.1602</td>\n",
       "      <td>57146.0</td>\n",
       "      <td>48827.0</td>\n",
       "      <td>41143.0</td>\n",
       "      <td>9.0</td>\n",
       "      <td>930.0</td>\n",
       "      <td>2023 Q3</td>\n",
       "      <td>124338.0</td>\n",
       "      <td>-1693.0</td>\n",
       "      <td>45.960205</td>\n",
       "      <td>0.007238</td>\n",
       "    </tr>\n",
       "    <tr>\n",
       "      <th>234</th>\n",
       "      <td>2023-12-31</td>\n",
       "      <td>5.2500</td>\n",
       "      <td>49352.0</td>\n",
       "      <td>50374.0</td>\n",
       "      <td>39583.0</td>\n",
       "      <td>27.0</td>\n",
       "      <td>-459.0</td>\n",
       "      <td>2023 Q4</td>\n",
       "      <td>119920.0</td>\n",
       "      <td>-627.0</td>\n",
       "      <td>41.154103</td>\n",
       "      <td>0.022515</td>\n",
       "    </tr>\n",
       "    <tr>\n",
       "      <th>237</th>\n",
       "      <td>2024-03-31</td>\n",
       "      <td>5.2500</td>\n",
       "      <td>NaN</td>\n",
       "      <td>NaN</td>\n",
       "      <td>NaN</td>\n",
       "      <td>NaN</td>\n",
       "      <td>NaN</td>\n",
       "      <td>2024 Q1</td>\n",
       "      <td>83865.0</td>\n",
       "      <td>2208.0</td>\n",
       "      <td>NaN</td>\n",
       "      <td>NaN</td>\n",
       "    </tr>\n",
       "  </tbody>\n",
       "</table>\n",
       "</div>"
      ],
      "text/plain": [
       "          DATE  IUQABEDR  LPQB3VB  LPQVTVQ  LPMB7GT  RPQTFHD  LPMB8GO  \\\n",
       "225 2023-03-31    3.8555  54359.0  47663.0  39859.0     13.0   -573.0   \n",
       "228 2023-06-30    4.4583  47843.0  57135.0  42836.0     13.0   -141.0   \n",
       "231 2023-09-30    5.1602  57146.0  48827.0  41143.0      9.0    930.0   \n",
       "234 2023-12-31    5.2500  49352.0  50374.0  39583.0     27.0   -459.0   \n",
       "237 2024-03-31    5.2500      NaN      NaN      NaN      NaN      NaN   \n",
       "\n",
       "     Quarter   LPQB7GT  LPQB8GO    Sec_Pct  Write_Pct  \n",
       "225  2023 Q1  120687.0   -838.0  45.041305   0.010772  \n",
       "228  2023 Q2  126092.0   2977.0  37.942931   0.010310  \n",
       "231  2023 Q3  124338.0  -1693.0  45.960205   0.007238  \n",
       "234  2023 Q4  119920.0   -627.0  41.154103   0.022515  \n",
       "237  2024 Q1   83865.0   2208.0        NaN        NaN  "
      ]
     },
     "execution_count": 2,
     "metadata": {},
     "output_type": "execute_result"
    }
   ],
   "source": [
    "boe_series = {'Datefrom':'01/Apr/1993','SeriesCodes':'IUQABEDR,LPQB3VB,LPQVTVQ,LPMB7GT,RPQTFHD,LPMB8GO','CSVF':'TN','UsingCodes':'Y','VPD':'N','VFD':'N'}\n",
    "url2 = 'http://www.bankofengland.co.uk/boeapps/iadb/fromshowcolumns.asp?csv.x=yes'\n",
    "headers = {'User-Agent': 'Mozilla/5.0 (X11; Linux x86_64) ' 'AppleWebKit/537.36 (KHTML, like Gecko) ' 'Chrome/54.0.2840.90 ' 'Safari/537.36'}\n",
    "response = requests.get(url2, params=boe_series, headers=headers,verify = False)\n",
    "df2 = pd.read_csv(io.BytesIO(response.content))\n",
    "df2['DATE'] = pd.to_datetime(df2['DATE'],format='%d %b %Y')\n",
    "def format_quarter_year(date):\n",
    "    return f\"{date.year} Q{date.quarter}\"\n",
    "df2['Quarter'] = df2['DATE'].apply(format_quarter_year)\n",
    "sums = df2.groupby('Quarter')['LPMB7GT'].transform('sum')\n",
    "df2['LPQB7GT'] = np.where(sums == 0, np.nan, sums)\n",
    "sums = df2.groupby('Quarter')['LPMB8GO'].transform('sum')\n",
    "df2['LPQB8GO'] = np.where(sums == 0, np.nan, sums)\n",
    "df2 = df2.drop_duplicates(subset='Quarter', keep='last')\n",
    "df2['Sec_Pct'] = df2['LPQB3VB']/df2['LPQB7GT']*100\n",
    "df2['Write_Pct'] = df2['RPQTFHD']/df2['LPQB7GT']*100\n",
    "df2.tail()"
   ]
  },
  {
   "cell_type": "markdown",
   "metadata": {
    "id": "NUO2UQyB9mj7"
   },
   "source": [
    "## **Section 2: Data Exploration**\n",
    "Execute the cell below to plot all residential mortgage series side-by-side. Time range can be controlled by a range slider at the bottom of the plot. Use home button in top-right corner to reset the view.\n",
    "### **More Insights:**\n",
    "> Note the persistent trend of decrease of securitised mortgages held by aggregate banking sector post-GFC. This was largely replaced by holdings of [financial derivatives](https://www.bankofengland.co.uk/boeapps/database/FromShowColumns.asp?Travel=&searchText=LPMVWKM) across the balance sheets (derivatives are reported as net liability, therefore negative value of net liabilities = increase in assets). Meanwhile, new gross lending peaked at ~60% of all securitised mortgages held in Dec 2022. This indicates cleansing of balance sheet and overall displacement of old legacy debt with new originations in the total stock of securitised mortgages.\n"
   ]
  },
  {
   "cell_type": "code",
   "execution_count": 3,
   "metadata": {
    "colab": {
     "base_uri": "https://localhost:8080/",
     "height": 767
    },
    "id": "KioytWw8-TBf",
    "outputId": "335d7305-da73-4962-9ea1-b02fe7d6dbf5"
   },
   "outputs": [
    {
     "data": {
      "image/png": "[encoded data removed]"
     },
     "metadata": {},
     "output_type": "display_data"
    }
   ],
   "source": [
    "fig = make_subplots(rows=7, cols=1, shared_xaxes=True)\n",
    "\n",
    "fig.add_trace(go.Scatter(x=df2['DATE'], y=df2['IUQABEDR'], mode='lines', name='Average BOE rate', fill='tozeroy'), row=1, col=1)\n",
    "fig.add_trace(go.Scatter(x=df2['DATE'], y=df2['LPQB3VB'], mode='lines', name='Gross mortgage lending by Banks', fill='tozeroy'), row=2, col=1)\n",
    "fig.add_trace(go.Scatter(x=df2['DATE'], y=df2['LPQVTVQ'], mode='lines', name='Value of new mortgage approvals (lead)', fill='tozeroy'), row=3, col=1)\n",
    "fig.add_trace(go.Scatter(x=df2['DATE'], y=df2['LPMB7GT'], mode='lines', name='Securitised mortgages held by Banks',fill='tozeroy'), row=4, col=1)\n",
    "fig.add_trace(go.Scatter(x=df2['DATE'], y=df2['Sec_Pct'], mode='lines', name='Gross lending as % of securitised mortgages held', fill='tozeroy'), row=5, col=1)\n",
    "fig.add_trace(go.Scatter(x=df2['DATE'], y=df2['RPQTFHD'], mode='lines', name='Write-offs of Mortgages', fill='tozeroy'), row=6, col=1)\n",
    "fig.add_trace(go.Scatter(x=df2['DATE'], y=[0 for _ in df2['DATE']], mode='lines', showlegend=False), row=7, col=1)\n",
    "\n",
    "fig.update_yaxes(visible=False, showticklabels=False,showgrid=False, zeroline=False, row=7)\n",
    "fig.update_xaxes(showgrid=False, zeroline=False,rangeslider_visible=True, row=7, col=1)\n",
    "fig.update_layout(height=750, width=1000, template=\"simple_white\")  # Adjust height and width as needed\n",
    "fig.show() # render in google collab, use just fig.show() if local machine"
   ]
  },
  {
   "cell_type": "markdown",
   "metadata": {
    "id": "xYkx2asy4wW3"
   },
   "source": [
    "<a name=\"Anchor_Section3\"></a>\n",
    "## **Section 3: BOE Bank Rate range & density of mortgage lending and holdings of structured securities**\n",
    "Explore how historic density distribution of gross lending and securitisation activity changes across different monetary policy regimes.\n",
    "##**How to use:**\n",
    "1.   Execute the code cell below after [importing packages](#Anchor_Section1) and [reading the API data](#Anchor_Section2).\n",
    "2.   Adjust the range slider and select series to explore. Wait for plotly display device to update with widget input.\n",
    "\n"
   ]
  },
  {
   "cell_type": "code",
   "execution_count": null,
   "metadata": {
    "colab": {
     "base_uri": "https://localhost:8080/",
     "height": 581,
     "referenced_widgets": [
      "a60498a0aa884701a4d8a02536a3a723",
      "97ceb579e341492692c354593ddd1441",
      "74303513d7364c45b841687a4e3ff3c4",
      "c1f83cc39bed4c50b6b05cbbeec1cb2f",
      "a8da9354ad314915a104ebb49f615e1a",
      "1a6839fb7aa549c7a16e1a8863179d22",
      "39f1eae3035e419bab4b5ab73435924a",
      "21fe42ec1869488a9019eea1e4c9bf04",
      "62089aff100d4c80b351fbe76a54fae8",
      "48e5cc6ac93c4db1bc174b9cbb87bd40",
      "67b9254f85a34fe6b050c533037a92c9"
     ]
    },
    "id": "9Cw0evzMToe2",
    "outputId": "6a031bae-dff7-4ca8-a40e-c6d761d74e41"
   },
   "outputs": [],
   "source": [
    "default_column = 'LPQB3VB'\n",
    "data = df2[default_column]\n",
    "\n",
    "# Handle NaNs for Histogram and KDE\n",
    "clean_data = data.replace([np.inf, -np.inf], np.nan).dropna()\n",
    "kde = gaussian_kde(clean_data)\n",
    "y_kde = np.linspace(clean_data.min(), clean_data.max(), 50)\n",
    "x_kde = kde(y_kde)\n",
    "\n",
    "# Create plots\n",
    "scatter = go.Scatter(x=df2['DATE'], y=data, mode='markers', name='Scatter')\n",
    "histogram = go.Histogram(y=clean_data, orientation='h', nbinsy=10, name='Histogram', histnorm='probability density')\n",
    "kde_trace = go.Scatter(y=y_kde, x=x_kde, mode='lines', name='KDE',line=dict(color='black'))\n",
    "\n",
    "# Combine into a single interactive figure\n",
    "fig_combined = go.FigureWidget(make_subplots(rows=1, cols=2, subplot_titles=('Scatter', 'Histogram & KDE')))\n",
    "fig_combined.update_layout(height=500, width=1000,template=\"simple_white\")\n",
    "fig_combined.add_trace(scatter, row=1, col=1)\n",
    "fig_combined.add_trace(histogram, row=1, col=2)\n",
    "fig_combined.add_trace(kde_trace, row=1, col=2)\n",
    "\n",
    "# Update scatter plot and histogram in fig_combined based on slider and dropdown values\n",
    "def update_plot(column, range_vals):\n",
    "    mask = (df2['IUQABEDR'] >= range_vals[0]) & (df2['IUQABEDR'] <= range_vals[1])\n",
    "    filtered_data = df2[mask]\n",
    "    selected_data = filtered_data[column]\n",
    "    clean_selected_data = selected_data.replace([np.inf, -np.inf], np.nan).dropna()\n",
    "    # Update plots\n",
    "    fig_combined.data[0].x = filtered_data['DATE'].tolist()\n",
    "    fig_combined.data[0].y = selected_data.tolist()\n",
    "    fig_combined.data[1].y = clean_selected_data.tolist()\n",
    "    # Update KDE\n",
    "    kde = gaussian_kde(clean_selected_data)\n",
    "    y_kde = np.linspace(clean_selected_data.min(), clean_selected_data.max(), 50)\n",
    "    x_kde = kde(y_kde)\n",
    "    fig_combined.data[2].y = y_kde\n",
    "    fig_combined.data[2].x = x_kde\n",
    "    # Update plot render in google collab \\\\ remove completely if running on local machine\n",
    "# Dropdown for column selection\n",
    "dropdown = Dropdown(\n",
    "    options=df2.columns[(df2.dtypes != 'datetime64[ns]') & (df2.dtypes != 'object')].tolist(),\n",
    "    value=default_column,\n",
    "    description='Series:')\n",
    "\n",
    "# Float range slider for bank rate\n",
    "min_val2, max_val2 = df2['IUQABEDR'].min(), df2['IUQABEDR'].max()\n",
    "slider = FloatRangeSlider(\n",
    "    value=[min_val2, max_val2],\n",
    "    min=min_val2,\n",
    "    max=max_val2,\n",
    "    step=0.01,\n",
    "    description='BOE Rate:',\n",
    "    continuous_update=True)\n",
    "\n",
    "interact(update_plot, column=dropdown, range_vals=slider)\n",
    "fig_combined"
   ]
  },
  {
   "cell_type": "markdown",
   "metadata": {},
   "source": [
    "<img src=\"Mortgage_Tutorial.gif\" alt=\"Alt text\" width=\"1200\"/>"
   ]
  }
 ],
 "metadata": {
  "colab": {
   "provenance": []
  },
  "kernelspec": {
   "display_name": "Python 3 (ipykernel)",
   "language": "python",
   "name": "python3"
  },
  "language_info": {
   "codemirror_mode": {
    "name": "ipython",
    "version": 3
   },
   "file_extension": ".py",
   "mimetype": "text/x-python",
   "name": "python",
   "nbconvert_exporter": "python",
   "pygments_lexer": "ipython3",
   "version": "3.10.9"
  },
  "widgets": {
   "application/vnd.jupyter.widget-state+json": {
    "state": {
     "006ac1e3d0e942feb60651325bcf3ba4": {
      "model_module": "@jupyter-widgets/base",
      "model_module_version": "1.2.0",
      "model_name": "LayoutModel",
      "state": {}
     },
     "062e804f78904731beb1ae263af06423": {
      "model_module": "@jupyter-widgets/base",
      "model_module_version": "1.2.0",
      "model_name": "LayoutModel",
      "state": {}
     },
     "173ee852c1084697964fa457070ab5e6": {
      "model_module": "@jupyter-widgets/base",
      "model_module_version": "1.2.0",
      "model_name": "LayoutModel",
      "state": {}
     },
     "1f1044a866c044ae894d5078308e63f5": {
      "model_module": "@jupyter-widgets/controls",
      "model_module_version": "1.5.0",
      "model_name": "SliderStyleModel",
      "state": {
       "description_width": ""
      }
     },
     "239bac6355f2491c8b5163d5f29ed3b2": {
      "model_module": "@jupyter-widgets/controls",
      "model_module_version": "1.5.0",
      "model_name": "SliderStyleModel",
      "state": {
       "description_width": ""
      }
     },
     "34aded15eb734ca19f0f96ef51a158be": {
      "model_module": "@jupyter-widgets/controls",
      "model_module_version": "1.5.0",
      "model_name": "DescriptionStyleModel",
      "state": {
       "description_width": ""
      }
     },
     "39f1be8c6927494cad10e38da8c5a303": {
      "model_module": "@jupyter-widgets/output",
      "model_module_version": "1.0.0",
      "model_name": "OutputModel",
      "state": {
       "layout": "IPY_MODEL_062e804f78904731beb1ae263af06423"
      }
     },
     "5009d7ff20a54fb791a8b5f89c0c57aa": {
      "model_module": "@jupyter-widgets/base",
      "model_module_version": "1.2.0",
      "model_name": "LayoutModel",
      "state": {}
     },
     "50b490eecc794a14b5d3b395f8490bae": {
      "model_module": "@jupyter-widgets/controls",
      "model_module_version": "1.5.0",
      "model_name": "DropdownModel",
      "state": {
       "_options_labels": [
        "IUQABEDR",
        "LPQB3VB",
        "LPQVTVQ",
        "LPMB7GT",
        "RPQTFHD",
        "LPMB8GO",
        "LPQB7GT",
        "LPQB8GO",
        "Sec_Pct",
        "Write_Pct"
       ],
       "description": "Series:",
       "index": 1,
       "layout": "IPY_MODEL_006ac1e3d0e942feb60651325bcf3ba4",
       "style": "IPY_MODEL_34aded15eb734ca19f0f96ef51a158be"
      }
     },
     "564510e0490740eebb7554eda3a5bc59": {
      "model_module": "@jupyter-widgets/controls",
      "model_module_version": "1.5.0",
      "model_name": "FloatRangeSliderModel",
      "state": {
       "_model_name": "FloatRangeSliderModel",
       "_view_name": "FloatRangeSliderView",
       "description": "BOE Rate:",
       "layout": "IPY_MODEL_5f7d242241ca49fe83f45b23cfe620ae",
       "max": 7.5,
       "min": 0.1,
       "step": 0.01,
       "style": "IPY_MODEL_1f1044a866c044ae894d5078308e63f5",
       "value": [
        0.1,
        7.5
       ]
      }
     },
     "5b8bef5d8b49464db55c76810467e28a": {
      "model_module": "@jupyter-widgets/output",
      "model_module_version": "1.0.0",
      "model_name": "OutputModel",
      "state": {
       "layout": "IPY_MODEL_5009d7ff20a54fb791a8b5f89c0c57aa"
      }
     },
     "5f23d0856a1e43db925748b1ca05bc95": {
      "buffers": [
       {
        "data": "Tz7Iyup94j5mjtYHDZDkPk9Su72laOY+zmUd1Gz95z65L4aCCEzpPra2QvBvWeo+vKszDfAv6z6shN5ASNzrPhmVJm2Lauw+p5jAXHzj7D4UoBWs+ErtPmKGVb69n+0+D19jRH3c7T4+L1786fntPt3rJc808e0+gv/Jk2e+7T681hs3I2LtPifuDiN34uw+YXTLZr9K7D4jeAZMp6rrPjnaXBONFOs+nXWo9Y6b6j42iVX4hFHqPuik7uUdReo+nnvcXUeA6j7kc7Bv/gbrPhzW+42g1us+msg/8tDl7D6WgR/o/yTuPunkNMWTf+8+XILM+s5u8D5QckzQ9hLxPiP6k20eoPE+x+uWv5YL8j4kKCsn6kzyPr8KVChVXvI+KaI2q+488j6X48UKi+jxPu67BrVtY/E+x2Cx5d2x8D7gJ+YWXLPvPjRiGNB9w+0+89UV4Qaj6z4vACMBFWHpPmelGHQsDOc+11nRPZax5D74d14H/1ziPt2+5/5bGOA+tH0wVxPY2z7MWIHBEr7XPg==",
        "encoding": "base64",
        "path": [
         "_data",
         2,
         "x",
         "value"
        ]
       },
       {
        "data": "AAAAAIA3xkA6BS+n4OvIQHMKXk5BoMtArA+N9aFUzkBzCl5OgYTQQBCN9aGx3tFArA+N9eE400BJkiRJEpPUQOYUvJxC7dVAg5dT8HJH10AgGutDo6HYQLycgpfT+9lAWR8a6wNW20D2obE+NLDcQJIkSZJkCt5AL6fg5ZRk30DmFLycYl/gQDTWh8Z6DOFAg5dT8JK54UDRWB8aq2biQCAa60PDE+NAbtu2bdvA40C8nIKX823kQApeTsELG+VAWR8a6yPI5UCn4OUUPHXmQPahsT5UIudARGN9aGzP50CSJEmShHzoQOHlFLycKelAL6fg5bTW6UB+aKwPzYPqQMwpeDnlMOtAGutDY/3d60BprA+NFYvsQLdt27YtOO1ABi+n4EXl7UBU8HIKXpLuQKKxPjR2P+9A8XIKXo7s70AgGutD00zwQMb60Fhfo/BAbtu2bev58EAVvJyCd1DxQLycgpcDp/FAZH1orI/98UAKXk7BG1TyQLI+NNanqvJAWR8a6zMB80AAAAAAwFfzQA==",
        "encoding": "base64",
        "path": [
         "_data",
         2,
         "y",
         "value"
        ]
       }
      ],
      "model_module": "jupyterlab-plotly",
      "model_module_version": "^5.9.0",
      "model_name": "FigureModel",
      "state": {
       "_config": {
        "plotlyServerURL": "https://plot.ly"
       },
       "_data": [
        {
         "mode": "markers",
         "name": "Scatter",
         "type": "scatter",
         "uid": "96a6f781-d29e-47bd-91b1-66019ec7590c",
         "x": [
          "1993-06-30T00:00:00+01:00",
          "1993-09-30T00:00:00+01:00",
          "1993-12-31T00:00:00Z",
          "1994-03-31T00:00:00+01:00",
          "1994-06-30T00:00:00+01:00",
          "1994-09-30T00:00:00+01:00",
          "1994-12-31T00:00:00Z",
          "1995-03-31T00:00:00+01:00",
          "1995-06-30T00:00:00+01:00",
          "1995-09-30T00:00:00+01:00",
          "1995-12-31T00:00:00Z",
          "1996-03-31T00:00:00Z",
          "1996-06-30T00:00:00+01:00",
          "1996-09-30T00:00:00+01:00",
          "1996-12-31T00:00:00Z",
          "1997-03-31T00:00:00+01:00",
          "1997-06-30T00:00:00+01:00",
          "1997-09-30T00:00:00+01:00",
          "1997-12-31T00:00:00Z",
          "1998-03-31T00:00:00+01:00",
          "1998-06-30T00:00:00+01:00",
          "1998-09-30T00:00:00+01:00",
          "1998-12-31T00:00:00Z",
          "1999-03-31T00:00:00+01:00",
          "1999-06-30T00:00:00+01:00",
          "1999-09-30T00:00:00+01:00",
          "1999-12-31T00:00:00Z",
          "2000-03-31T00:00:00+01:00",
          "2000-06-30T00:00:00+01:00",
          "2000-09-30T00:00:00+01:00",
          "2000-12-31T00:00:00Z",
          "2001-03-31T00:00:00+01:00",
          "2001-06-30T00:00:00+01:00",
          "2001-09-30T00:00:00+01:00",
          "2001-12-31T00:00:00Z",
          "2002-03-31T00:00:00Z",
          "2002-06-30T00:00:00+01:00",
          "2002-09-30T00:00:00+01:00",
          "2002-12-31T00:00:00Z",
          "2003-03-31T00:00:00+01:00",
          "2003-06-30T00:00:00+01:00",
          "2003-09-30T00:00:00+01:00",
          "2003-12-31T00:00:00Z",
          "2004-03-31T00:00:00+01:00",
          "2004-06-30T00:00:00+01:00",
          "2004-09-30T00:00:00+01:00",
          "2004-12-31T00:00:00Z",
          "2005-03-31T00:00:00+01:00",
          "2005-06-30T00:00:00+01:00",
          "2005-09-30T00:00:00+01:00",
          "2005-12-31T00:00:00Z",
          "2006-03-31T00:00:00+01:00",
          "2006-06-30T00:00:00+01:00",
          "2006-09-30T00:00:00+01:00",
          "2006-12-31T00:00:00Z",
          "2007-03-31T00:00:00+01:00",
          "2007-06-30T00:00:00+01:00",
          "2007-09-30T00:00:00+01:00",
          "2007-12-31T00:00:00Z",
          "2008-03-31T00:00:00+01:00",
          "2008-06-30T00:00:00+01:00",
          "2008-09-30T00:00:00+01:00",
          "2008-12-31T00:00:00Z",
          "2009-03-31T00:00:00+01:00",
          "2009-06-30T00:00:00+01:00",
          "2009-09-30T00:00:00+01:00",
          "2009-12-31T00:00:00Z",
          "2010-03-31T00:00:00+01:00",
          "2010-06-30T00:00:00+01:00",
          "2010-09-30T00:00:00+01:00",
          "2010-12-31T00:00:00Z",
          "2011-03-31T00:00:00+01:00",
          "2011-06-30T00:00:00+01:00",
          "2011-09-30T00:00:00+01:00",
          "2011-12-31T00:00:00Z",
          "2012-03-31T00:00:00+01:00",
          "2012-06-30T00:00:00+01:00",
          "2012-09-30T00:00:00+01:00",
          "2012-12-31T00:00:00Z",
          "2013-03-31T00:00:00Z",
          "2013-06-30T00:00:00+01:00",
          "2013-09-30T00:00:00+01:00",
          "2013-12-31T00:00:00Z",
          "2014-03-31T00:00:00+01:00",
          "2014-06-30T00:00:00+01:00",
          "2014-09-30T00:00:00+01:00",
          "2014-12-31T00:00:00Z",
          "2015-03-31T00:00:00+01:00",
          "2015-06-30T00:00:00+01:00",
          "2015-09-30T00:00:00+01:00",
          "2015-12-31T00:00:00Z",
          "2016-03-31T00:00:00+01:00",
          "2016-06-30T00:00:00+01:00",
          "2016-09-30T00:00:00+01:00",
          "2016-12-31T00:00:00Z",
          "2017-03-31T00:00:00+01:00",
          "2017-06-30T00:00:00+01:00",
          "2017-09-30T00:00:00+01:00",
          "2017-12-31T00:00:00Z",
          "2018-03-31T00:00:00+01:00",
          "2018-06-30T00:00:00+01:00",
          "2018-09-30T00:00:00+01:00",
          "2018-12-31T00:00:00Z",
          "2019-03-31T00:00:00Z",
          "2019-06-30T00:00:00+01:00",
          "2019-09-30T00:00:00+01:00",
          "2019-12-31T00:00:00Z",
          "2020-03-31T00:00:00+01:00",
          "2020-06-30T00:00:00+01:00",
          "2020-09-30T00:00:00+01:00",
          "2020-12-31T00:00:00Z",
          "2021-03-31T00:00:00+01:00",
          "2021-06-30T00:00:00+01:00",
          "2021-09-30T00:00:00+01:00",
          "2021-12-31T00:00:00Z",
          "2022-03-31T00:00:00+01:00",
          "2022-06-30T00:00:00+01:00",
          "2022-09-30T00:00:00+01:00",
          "2022-12-31T00:00:00Z",
          "2023-03-31T00:00:00+01:00",
          "2023-06-30T00:00:00+01:00",
          "2023-09-30T00:00:00+01:00"
         ],
         "xaxis": "x",
         "y": [
          13333,
          14034,
          12668,
          11375,
          13976,
          15452,
          13538,
          11438,
          13720,
          14625,
          14133,
          13041,
          16758,
          19113,
          18618,
          14514,
          17989,
          20242,
          18304,
          15705,
          20661,
          24018,
          21510,
          18718,
          26114,
          30246,
          27792,
          22839,
          27903,
          28150,
          27300,
          27251,
          35868,
          40966,
          39048,
          37981,
          48562,
          54511,
          53795,
          49373,
          57169,
          65679,
          66818,
          57008,
          65544,
          68362,
          56069,
          47879,
          58782,
          66857,
          67004,
          59554,
          70739,
          76681,
          75585,
          67480,
          76400,
          79228,
          69775,
          62901,
          64095,
          55573,
          41731,
          29976,
          30684,
          36666,
          36511,
          27766,
          31943,
          35202,
          30715,
          26898,
          29993,
          35805,
          33757,
          30449,
          31328,
          33835,
          33679,
          30202,
          37732,
          44980,
          47053,
          42268,
          46553,
          50129,
          45932,
          39547,
          47077,
          56113,
          56700,
          56045,
          52613,
          59615,
          57864,
          54770,
          57485,
          63305,
          62433,
          55737,
          59885,
          64968,
          64747,
          55107,
          59051,
          65474,
          65494,
          58426,
          39566,
          56207,
          69441,
          74311,
          79082,
          65044,
          62843,
          67566,
          69197,
          76942,
          74230,
          54359,
          47843,
          57146
         ],
         "yaxis": "y"
        },
        {
         "histnorm": "probability density",
         "name": "Histogram",
         "nbinsy": 10,
         "orientation": "h",
         "type": "histogram",
         "uid": "c559bd72-0294-42fa-bb1f-895dd209b7ba",
         "xaxis": "x2",
         "y": [
          13333,
          14034,
          12668,
          11375,
          13976,
          15452,
          13538,
          11438,
          13720,
          14625,
          14133,
          13041,
          16758,
          19113,
          18618,
          14514,
          17989,
          20242,
          18304,
          15705,
          20661,
          24018,
          21510,
          18718,
          26114,
          30246,
          27792,
          22839,
          27903,
          28150,
          27300,
          27251,
          35868,
          40966,
          39048,
          37981,
          48562,
          54511,
          53795,
          49373,
          57169,
          65679,
          66818,
          57008,
          65544,
          68362,
          56069,
          47879,
          58782,
          66857,
          67004,
          59554,
          70739,
          76681,
          75585,
          67480,
          76400,
          79228,
          69775,
          62901,
          64095,
          55573,
          41731,
          29976,
          30684,
          36666,
          36511,
          27766,
          31943,
          35202,
          30715,
          26898,
          29993,
          35805,
          33757,
          30449,
          31328,
          33835,
          33679,
          30202,
          37732,
          44980,
          47053,
          42268,
          46553,
          50129,
          45932,
          39547,
          47077,
          56113,
          56700,
          56045,
          52613,
          59615,
          57864,
          54770,
          57485,
          63305,
          62433,
          55737,
          59885,
          64968,
          64747,
          55107,
          59051,
          65474,
          65494,
          58426,
          39566,
          56207,
          69441,
          74311,
          79082,
          65044,
          62843,
          67566,
          69197,
          76942,
          74230,
          54359,
          47843,
          57146
         ],
         "yaxis": "y2"
        },
        {
         "line": {
          "color": "black"
         },
         "mode": "lines",
         "name": "KDE",
         "type": "scatter",
         "uid": "49a7ac9c-6396-41ed-b553-d967f56e98ff",
         "x": {
          "dtype": "float64",
          "shape": [
           50
          ],
          "value": {}
         },
         "xaxis": "x2",
         "y": {
          "dtype": "float64",
          "shape": [
           50
          ],
          "value": {}
         },
         "yaxis": "y2"
        }
       ],
       "_js2py_pointsCallback": {},
       "_js2py_relayout": {},
       "_js2py_restyle": {},
       "_js2py_update": {},
       "_last_layout_edit_id": 26,
       "_last_trace_edit_id": 26,
       "_layout": {
        "annotations": [
         {
          "font": {
           "size": 16
          },
          "showarrow": false,
          "text": "Scatter",
          "x": 0.225,
          "xanchor": "center",
          "xref": "paper",
          "y": 1,
          "yanchor": "bottom",
          "yref": "paper"
         },
         {
          "font": {
           "size": 16
          },
          "showarrow": false,
          "text": "Histogram & KDE",
          "x": 0.775,
          "xanchor": "center",
          "xref": "paper",
          "y": 1,
          "yanchor": "bottom",
          "yref": "paper"
         }
        ],
        "height": 500,
        "template": {
         "data": {
          "bar": [
           {
            "error_x": {
             "color": "rgb(36,36,36)"
            },
            "error_y": {
             "color": "rgb(36,36,36)"
            },
            "marker": {
             "line": {
              "color": "white",
              "width": 0.5
             },
             "pattern": {
              "fillmode": "overlay",
              "size": 10,
              "solidity": 0.2
             }
            },
            "type": "bar"
           }
          ],
          "barpolar": [
           {
            "marker": {
             "line": {
              "color": "white",
              "width": 0.5
             },
             "pattern": {
              "fillmode": "overlay",
              "size": 10,
              "solidity": 0.2
             }
            },
            "type": "barpolar"
           }
          ],
          "carpet": [
           {
            "aaxis": {
             "endlinecolor": "rgb(36,36,36)",
             "gridcolor": "white",
             "linecolor": "white",
             "minorgridcolor": "white",
             "startlinecolor": "rgb(36,36,36)"
            },
            "baxis": {
             "endlinecolor": "rgb(36,36,36)",
             "gridcolor": "white",
             "linecolor": "white",
             "minorgridcolor": "white",
             "startlinecolor": "rgb(36,36,36)"
            },
            "type": "carpet"
           }
          ],
          "choropleth": [
           {
            "colorbar": {
             "outlinewidth": 1,
             "tickcolor": "rgb(36,36,36)",
             "ticks": "outside"
            },
            "type": "choropleth"
           }
          ],
          "contour": [
           {
            "colorbar": {
             "outlinewidth": 1,
             "tickcolor": "rgb(36,36,36)",
             "ticks": "outside"
            },
            "colorscale": [
             [
              0,
              "#440154"
             ],
             [
              0.1111111111111111,
              "#482878"
             ],
             [
              0.2222222222222222,
              "#3e4989"
             ],
             [
              0.3333333333333333,
              "#31688e"
             ],
             [
              0.4444444444444444,
              "#26828e"
             ],
             [
              0.5555555555555556,
              "#1f9e89"
             ],
             [
              0.6666666666666666,
              "#35b779"
             ],
             [
              0.7777777777777778,
              "#6ece58"
             ],
             [
              0.8888888888888888,
              "#b5de2b"
             ],
             [
              1,
              "#fde725"
             ]
            ],
            "type": "contour"
           }
          ],
          "contourcarpet": [
           {
            "colorbar": {
             "outlinewidth": 1,
             "tickcolor": "rgb(36,36,36)",
             "ticks": "outside"
            },
            "type": "contourcarpet"
           }
          ],
          "heatmap": [
           {
            "colorbar": {
             "outlinewidth": 1,
             "tickcolor": "rgb(36,36,36)",
             "ticks": "outside"
            },
            "colorscale": [
             [
              0,
              "#440154"
             ],
             [
              0.1111111111111111,
              "#482878"
             ],
             [
              0.2222222222222222,
              "#3e4989"
             ],
             [
              0.3333333333333333,
              "#31688e"
             ],
             [
              0.4444444444444444,
              "#26828e"
             ],
             [
              0.5555555555555556,
              "#1f9e89"
             ],
             [
              0.6666666666666666,
              "#35b779"
             ],
             [
              0.7777777777777778,
              "#6ece58"
             ],
             [
              0.8888888888888888,
              "#b5de2b"
             ],
             [
              1,
              "#fde725"
             ]
            ],
            "type": "heatmap"
           }
          ],
          "heatmapgl": [
           {
            "colorbar": {
             "outlinewidth": 1,
             "tickcolor": "rgb(36,36,36)",
             "ticks": "outside"
            },
            "colorscale": [
             [
              0,
              "#440154"
             ],
             [
              0.1111111111111111,
              "#482878"
             ],
             [
              0.2222222222222222,
              "#3e4989"
             ],
             [
              0.3333333333333333,
              "#31688e"
             ],
             [
              0.4444444444444444,
              "#26828e"
             ],
             [
              0.5555555555555556,
              "#1f9e89"
             ],
             [
              0.6666666666666666,
              "#35b779"
             ],
             [
              0.7777777777777778,
              "#6ece58"
             ],
             [
              0.8888888888888888,
              "#b5de2b"
             ],
             [
              1,
              "#fde725"
             ]
            ],
            "type": "heatmapgl"
           }
          ],
          "histogram": [
           {
            "marker": {
             "line": {
              "color": "white",
              "width": 0.6
             }
            },
            "type": "histogram"
           }
          ],
          "histogram2d": [
           {
            "colorbar": {
             "outlinewidth": 1,
             "tickcolor": "rgb(36,36,36)",
             "ticks": "outside"
            },
            "colorscale": [
             [
              0,
              "#440154"
             ],
             [
              0.1111111111111111,
              "#482878"
             ],
             [
              0.2222222222222222,
              "#3e4989"
             ],
             [
              0.3333333333333333,
              "#31688e"
             ],
             [
              0.4444444444444444,
              "#26828e"
             ],
             [
              0.5555555555555556,
              "#1f9e89"
             ],
             [
              0.6666666666666666,
              "#35b779"
             ],
             [
              0.7777777777777778,
              "#6ece58"
             ],
             [
              0.8888888888888888,
              "#b5de2b"
             ],
             [
              1,
              "#fde725"
             ]
            ],
            "type": "histogram2d"
           }
          ],
          "histogram2dcontour": [
           {
            "colorbar": {
             "outlinewidth": 1,
             "tickcolor": "rgb(36,36,36)",
             "ticks": "outside"
            },
            "colorscale": [
             [
              0,
              "#440154"
             ],
             [
              0.1111111111111111,
              "#482878"
             ],
             [
              0.2222222222222222,
              "#3e4989"
             ],
             [
              0.3333333333333333,
              "#31688e"
             ],
             [
              0.4444444444444444,
              "#26828e"
             ],
             [
              0.5555555555555556,
              "#1f9e89"
             ],
             [
              0.6666666666666666,
              "#35b779"
             ],
             [
              0.7777777777777778,
              "#6ece58"
             ],
             [
              0.8888888888888888,
              "#b5de2b"
             ],
             [
              1,
              "#fde725"
             ]
            ],
            "type": "histogram2dcontour"
           }
          ],
          "mesh3d": [
           {
            "colorbar": {
             "outlinewidth": 1,
             "tickcolor": "rgb(36,36,36)",
             "ticks": "outside"
            },
            "type": "mesh3d"
           }
          ],
          "parcoords": [
           {
            "line": {
             "colorbar": {
              "outlinewidth": 1,
              "tickcolor": "rgb(36,36,36)",
              "ticks": "outside"
             }
            },
            "type": "parcoords"
           }
          ],
          "pie": [
           {
            "automargin": true,
            "type": "pie"
           }
          ],
          "scatter": [
           {
            "fillpattern": {
             "fillmode": "overlay",
             "size": 10,
             "solidity": 0.2
            },
            "type": "scatter"
           }
          ],
          "scatter3d": [
           {
            "line": {
             "colorbar": {
              "outlinewidth": 1,
              "tickcolor": "rgb(36,36,36)",
              "ticks": "outside"
             }
            },
            "marker": {
             "colorbar": {
              "outlinewidth": 1,
              "tickcolor": "rgb(36,36,36)",
              "ticks": "outside"
             }
            },
            "type": "scatter3d"
           }
          ],
          "scattercarpet": [
           {
            "marker": {
             "colorbar": {
              "outlinewidth": 1,
              "tickcolor": "rgb(36,36,36)",
              "ticks": "outside"
             }
            },
            "type": "scattercarpet"
           }
          ],
          "scattergeo": [
           {
            "marker": {
             "colorbar": {
              "outlinewidth": 1,
              "tickcolor": "rgb(36,36,36)",
              "ticks": "outside"
             }
            },
            "type": "scattergeo"
           }
          ],
          "scattergl": [
           {
            "marker": {
             "colorbar": {
              "outlinewidth": 1,
              "tickcolor": "rgb(36,36,36)",
              "ticks": "outside"
             }
            },
            "type": "scattergl"
           }
          ],
          "scattermapbox": [
           {
            "marker": {
             "colorbar": {
              "outlinewidth": 1,
              "tickcolor": "rgb(36,36,36)",
              "ticks": "outside"
             }
            },
            "type": "scattermapbox"
           }
          ],
          "scatterpolar": [
           {
            "marker": {
             "colorbar": {
              "outlinewidth": 1,
              "tickcolor": "rgb(36,36,36)",
              "ticks": "outside"
             }
            },
            "type": "scatterpolar"
           }
          ],
          "scatterpolargl": [
           {
            "marker": {
             "colorbar": {
              "outlinewidth": 1,
              "tickcolor": "rgb(36,36,36)",
              "ticks": "outside"
             }
            },
            "type": "scatterpolargl"
           }
          ],
          "scatterternary": [
           {
            "marker": {
             "colorbar": {
              "outlinewidth": 1,
              "tickcolor": "rgb(36,36,36)",
              "ticks": "outside"
             }
            },
            "type": "scatterternary"
           }
          ],
          "surface": [
           {
            "colorbar": {
             "outlinewidth": 1,
             "tickcolor": "rgb(36,36,36)",
             "ticks": "outside"
            },
            "colorscale": [
             [
              0,
              "#440154"
             ],
             [
              0.1111111111111111,
              "#482878"
             ],
             [
              0.2222222222222222,
              "#3e4989"
             ],
             [
              0.3333333333333333,
              "#31688e"
             ],
             [
              0.4444444444444444,
              "#26828e"
             ],
             [
              0.5555555555555556,
              "#1f9e89"
             ],
             [
              0.6666666666666666,
              "#35b779"
             ],
             [
              0.7777777777777778,
              "#6ece58"
             ],
             [
              0.8888888888888888,
              "#b5de2b"
             ],
             [
              1,
              "#fde725"
             ]
            ],
            "type": "surface"
           }
          ],
          "table": [
           {
            "cells": {
             "fill": {
              "color": "rgb(237,237,237)"
             },
             "line": {
              "color": "white"
             }
            },
            "header": {
             "fill": {
              "color": "rgb(217,217,217)"
             },
             "line": {
              "color": "white"
             }
            },
            "type": "table"
           }
          ]
         },
         "layout": {
          "annotationdefaults": {
           "arrowhead": 0,
           "arrowwidth": 1
          },
          "autotypenumbers": "strict",
          "coloraxis": {
           "colorbar": {
            "outlinewidth": 1,
            "tickcolor": "rgb(36,36,36)",
            "ticks": "outside"
           }
          },
          "colorscale": {
           "diverging": [
            [
             0,
             "rgb(103,0,31)"
            ],
            [
             0.1,
             "rgb(178,24,43)"
            ],
            [
             0.2,
             "rgb(214,96,77)"
            ],
            [
             0.3,
             "rgb(244,165,130)"
            ],
            [
             0.4,
             "rgb(253,219,199)"
            ],
            [
             0.5,
             "rgb(247,247,247)"
            ],
            [
             0.6,
             "rgb(209,229,240)"
            ],
            [
             0.7,
             "rgb(146,197,222)"
            ],
            [
             0.8,
             "rgb(67,147,195)"
            ],
            [
             0.9,
             "rgb(33,102,172)"
            ],
            [
             1,
             "rgb(5,48,97)"
            ]
           ],
           "sequential": [
            [
             0,
             "#440154"
            ],
            [
             0.1111111111111111,
             "#482878"
            ],
            [
             0.2222222222222222,
             "#3e4989"
            ],
            [
             0.3333333333333333,
             "#31688e"
            ],
            [
             0.4444444444444444,
             "#26828e"
            ],
            [
             0.5555555555555556,
             "#1f9e89"
            ],
            [
             0.6666666666666666,
             "#35b779"
            ],
            [
             0.7777777777777778,
             "#6ece58"
            ],
            [
             0.8888888888888888,
             "#b5de2b"
            ],
            [
             1,
             "#fde725"
            ]
           ],
           "sequentialminus": [
            [
             0,
             "#440154"
            ],
            [
             0.1111111111111111,
             "#482878"
            ],
            [
             0.2222222222222222,
             "#3e4989"
            ],
            [
             0.3333333333333333,
             "#31688e"
            ],
            [
             0.4444444444444444,
             "#26828e"
            ],
            [
             0.5555555555555556,
             "#1f9e89"
            ],
            [
             0.6666666666666666,
             "#35b779"
            ],
            [
             0.7777777777777778,
             "#6ece58"
            ],
            [
             0.8888888888888888,
             "#b5de2b"
            ],
            [
             1,
             "#fde725"
            ]
           ]
          },
          "colorway": [
           "#1F77B4",
           "#FF7F0E",
           "#2CA02C",
           "#D62728",
           "#9467BD",
           "#8C564B",
           "#E377C2",
           "#7F7F7F",
           "#BCBD22",
           "#17BECF"
          ],
          "font": {
           "color": "rgb(36,36,36)"
          },
          "geo": {
           "bgcolor": "white",
           "lakecolor": "white",
           "landcolor": "white",
           "showlakes": true,
           "showland": true,
           "subunitcolor": "white"
          },
          "hoverlabel": {
           "align": "left"
          },
          "hovermode": "closest",
          "mapbox": {
           "style": "light"
          },
          "paper_bgcolor": "white",
          "plot_bgcolor": "white",
          "polar": {
           "angularaxis": {
            "gridcolor": "rgb(232,232,232)",
            "linecolor": "rgb(36,36,36)",
            "showgrid": false,
            "showline": true,
            "ticks": "outside"
           },
           "bgcolor": "white",
           "radialaxis": {
            "gridcolor": "rgb(232,232,232)",
            "linecolor": "rgb(36,36,36)",
            "showgrid": false,
            "showline": true,
            "ticks": "outside"
           }
          },
          "scene": {
           "xaxis": {
            "backgroundcolor": "white",
            "gridcolor": "rgb(232,232,232)",
            "gridwidth": 2,
            "linecolor": "rgb(36,36,36)",
            "showbackground": true,
            "showgrid": false,
            "showline": true,
            "ticks": "outside",
            "zeroline": false,
            "zerolinecolor": "rgb(36,36,36)"
           },
           "yaxis": {
            "backgroundcolor": "white",
            "gridcolor": "rgb(232,232,232)",
            "gridwidth": 2,
            "linecolor": "rgb(36,36,36)",
            "showbackground": true,
            "showgrid": false,
            "showline": true,
            "ticks": "outside",
            "zeroline": false,
            "zerolinecolor": "rgb(36,36,36)"
           },
           "zaxis": {
            "backgroundcolor": "white",
            "gridcolor": "rgb(232,232,232)",
            "gridwidth": 2,
            "linecolor": "rgb(36,36,36)",
            "showbackground": true,
            "showgrid": false,
            "showline": true,
            "ticks": "outside",
            "zeroline": false,
            "zerolinecolor": "rgb(36,36,36)"
           }
          },
          "shapedefaults": {
           "fillcolor": "black",
           "line": {
            "width": 0
           },
           "opacity": 0.3
          },
          "ternary": {
           "aaxis": {
            "gridcolor": "rgb(232,232,232)",
            "linecolor": "rgb(36,36,36)",
            "showgrid": false,
            "showline": true,
            "ticks": "outside"
           },
           "baxis": {
            "gridcolor": "rgb(232,232,232)",
            "linecolor": "rgb(36,36,36)",
            "showgrid": false,
            "showline": true,
            "ticks": "outside"
           },
           "bgcolor": "white",
           "caxis": {
            "gridcolor": "rgb(232,232,232)",
            "linecolor": "rgb(36,36,36)",
            "showgrid": false,
            "showline": true,
            "ticks": "outside"
           }
          },
          "title": {
           "x": 0.05
          },
          "xaxis": {
           "automargin": true,
           "gridcolor": "rgb(232,232,232)",
           "linecolor": "rgb(36,36,36)",
           "showgrid": false,
           "showline": true,
           "ticks": "outside",
           "title": {
            "standoff": 15
           },
           "zeroline": false,
           "zerolinecolor": "rgb(36,36,36)"
          },
          "yaxis": {
           "automargin": true,
           "gridcolor": "rgb(232,232,232)",
           "linecolor": "rgb(36,36,36)",
           "showgrid": false,
           "showline": true,
           "ticks": "outside",
           "title": {
            "standoff": 15
           },
           "zeroline": false,
           "zerolinecolor": "rgb(36,36,36)"
          }
         }
        },
        "width": 1000,
        "xaxis": {
         "anchor": "y",
         "domain": [
          0,
          0.45
         ]
        },
        "xaxis2": {
         "anchor": "y2",
         "domain": [
          0.55,
          1
         ]
        },
        "yaxis": {
         "anchor": "x",
         "domain": [
          0,
          1
         ]
        },
        "yaxis2": {
         "anchor": "x2",
         "domain": [
          0,
          1
         ]
        }
       },
       "_py2js_animate": {},
       "_py2js_deleteTraces": {},
       "_py2js_moveTraces": {},
       "_py2js_relayout": {},
       "_py2js_removeLayoutProps": {},
       "_py2js_removeTraceProps": {},
       "_view_count": 1
      }
     },
     "5f7d242241ca49fe83f45b23cfe620ae": {
      "model_module": "@jupyter-widgets/base",
      "model_module_version": "1.2.0",
      "model_name": "LayoutModel",
      "state": {}
     },
     "64a96c5b31e14f4289d731f556161305": {
      "model_module": "@jupyter-widgets/base",
      "model_module_version": "1.2.0",
      "model_name": "LayoutModel",
      "state": {}
     },
     "65f096f05e7d444dbec31827d1b4b20e": {
      "model_module": "@jupyter-widgets/base",
      "model_module_version": "1.2.0",
      "model_name": "LayoutModel",
      "state": {}
     },
     "6e21654dd2fa46349b8c3e3071072f4f": {
      "model_module": "@jupyter-widgets/controls",
      "model_module_version": "1.5.0",
      "model_name": "DescriptionStyleModel",
      "state": {
       "description_width": ""
      }
     },
     "865c5e38ad1e47d59105f45cbf7a2d63": {
      "model_module": "@jupyter-widgets/controls",
      "model_module_version": "1.5.0",
      "model_name": "FloatRangeSliderModel",
      "state": {
       "_model_name": "FloatRangeSliderModel",
       "_view_name": "FloatRangeSliderView",
       "description": "BOE Rate:",
       "layout": "IPY_MODEL_65f096f05e7d444dbec31827d1b4b20e",
       "max": 7.5,
       "min": 0.1,
       "step": 0.01,
       "style": "IPY_MODEL_d6696c1ff8c24409b85b926a4303eab6",
       "value": [
        0.1,
        7.5
       ]
      }
     },
     "8ba44ffcc1494b1aa64b5345cf3182c8": {
      "model_module": "@jupyter-widgets/base",
      "model_module_version": "1.2.0",
      "model_name": "LayoutModel",
      "state": {}
     },
     "924a389da92a4a349e8f60a6f5268da7": {
      "model_module": "@jupyter-widgets/base",
      "model_module_version": "1.2.0",
      "model_name": "LayoutModel",
      "state": {}
     },
     "94643048f9d94a0ca682c1e2acd36c2c": {
      "model_module": "@jupyter-widgets/base",
      "model_module_version": "1.2.0",
      "model_name": "LayoutModel",
      "state": {}
     },
     "97072e876ca0430fa87f19f91c18b543": {
      "model_module": "@jupyter-widgets/controls",
      "model_module_version": "1.5.0",
      "model_name": "DropdownModel",
      "state": {
       "_options_labels": [
        "IUQABEDR",
        "LPQB3VB",
        "LPQVTVQ",
        "LPMB7GT",
        "RPQTFHD",
        "LPMB8GO",
        "LPQB7GT",
        "LPQB8GO",
        "Sec_Pct",
        "Write_Pct"
       ],
       "description": "Series:",
       "index": 3,
       "layout": "IPY_MODEL_94643048f9d94a0ca682c1e2acd36c2c",
       "style": "IPY_MODEL_a01e98602e52478b8ee81d5c4d059467"
      }
     },
     "a01e98602e52478b8ee81d5c4d059467": {
      "model_module": "@jupyter-widgets/controls",
      "model_module_version": "1.5.0",
      "model_name": "DescriptionStyleModel",
      "state": {
       "description_width": ""
      }
     },
     "ae3d79879d49466a9ab83c29a8d275fd": {
      "model_module": "@jupyter-widgets/controls",
      "model_module_version": "1.5.0",
      "model_name": "FloatRangeSliderModel",
      "state": {
       "_model_name": "FloatRangeSliderModel",
       "_view_name": "FloatRangeSliderView",
       "description": "BOE Rate:",
       "layout": "IPY_MODEL_173ee852c1084697964fa457070ab5e6",
       "max": 7.5,
       "min": 0.1,
       "step": 0.01,
       "style": "IPY_MODEL_239bac6355f2491c8b5163d5f29ed3b2",
       "value": [
        0.1,
        7.5
       ]
      }
     },
     "b5bbb9cfe5e64a5298e2e2f7fc96fe6a": {
      "model_module": "@jupyter-widgets/controls",
      "model_module_version": "1.5.0",
      "model_name": "VBoxModel",
      "state": {
       "_dom_classes": [
        "widget-interact"
       ],
       "children": [
        "IPY_MODEL_ce8807f1533643a6ba189ff03d5adae9",
        "IPY_MODEL_564510e0490740eebb7554eda3a5bc59",
        "IPY_MODEL_c78bf640000342989b84254703931789"
       ],
       "layout": "IPY_MODEL_924a389da92a4a349e8f60a6f5268da7"
      }
     },
     "bb2ef5c95c944cdd94f510bde511c73b": {
      "buffers": [
       {
        "data": "f73njLkf1j5h7SdUIG3XPkimD7OUXdg+q/aeeyXo2D5oBjHpGArZPiRwTxEZx9g+U2X5hrgo2D7Co6LqXz3XPtYgY6vJFtY+kPKdjT/I1D5JzOJq02TTPso2uH/J/dE+g0n6m1+h0D50NWA3GLTOPiAbZr95XMw+La09lxlByj5Rcu2JsGDIPjuV/fkgtcY+manE9VQ1xT7d6Yi5EtfDPlFfR5KTkMI+4eojprpZwT4Qq+fC2yzAPl+8ywsmDr4+XI6D+HXQuz6fYvaiLaW5PtsOS56SlLc+Tp2tMWGptT4PiVrKde+zPg5gh5yGcrI+K1jX3QA9sT5ncPG1E1ewPrCPX+vYi68+A8ORtkgWrz40IvHAv0ivPlkCrF8hC7A+PTBua9O0sD5Bfwz5EJOxPgbg3CAxlLI+2xlD2Riksz4WtryeTq20PsswYjpDmrU+/QvZVblWtj5FNIZLLdG2PvkPnqwZ/LY+eGOR3PTOtj7Qag+RyUa2PnjRd5RWZrU+sxCLWbA1tD4mhjh8bsGyPg==",
        "encoding": "base64",
        "path": [
         "_data",
         2,
         "x",
         "value"
        ]
       },
       {
        "data": "AAAAAGB240CsD4314WbmQFkfGutjV+lABS+n4OVH7ECyPjTWZzjvQC+n4OV0FPFABS+n4LWM8kDctm3b9gT0QLI+NNY3ffVAiMb60Hj19kBeTsHLuW34QDTWh8b65flACl5OwTte+0Dg5RS8fNb8QLdt27a9Tv5AjfWhsf7G/0CyPjTWn58AQZyCl1PAWwFBiMb60OAXAkFzCl5OAdQCQV5OwcshkANBSZIkSUJMBEE01ofGYggFQR8a60ODxAVBCl5OwaOABkH1obE+xDwHQeDlFLzk+AdBzCl4OQW1CEG3bdu2JXEJQaKxPjRGLQpBjfWhsWbpCkF4OQUvh6ULQWN9aKynYQxBTsHLKcgdDUE5BS+n6NkNQSRJkiQJlg5BD431oSlSD0F9aKwPJQcQQXMKXk41ZRBBaKwPjUXDEEFeTsHLVSERQVTwcgpmfxFBSZIkSXbdEUE+NNaHhjsSQTTWh8aWmRJBKng5Baf3EkEfGutDt1UTQRW8nILHsxNBCl5OwdcRFEEAAAAA6G8UQQ==",
        "encoding": "base64",
        "path": [
         "_data",
         2,
         "y",
         "value"
        ]
       }
      ],
      "model_module": "jupyterlab-plotly",
      "model_module_version": "^5.9.0",
      "model_name": "FigureModel",
      "state": {
       "_config": {
        "plotlyServerURL": "https://plot.ly"
       },
       "_data": [
        {
         "mode": "markers",
         "name": "Scatter",
         "type": "scatter",
         "uid": "3ebb09e9-d384-49cf-9d1e-b25115dd3438",
         "x": [
          "1993-06-30T00:00:00+01:00",
          "1993-09-30T00:00:00+01:00",
          "1993-12-31T00:00:00Z",
          "1994-03-31T00:00:00+01:00",
          "1994-06-30T00:00:00+01:00",
          "1994-09-30T00:00:00+01:00",
          "1994-12-31T00:00:00Z",
          "1995-03-31T00:00:00+01:00",
          "1995-06-30T00:00:00+01:00",
          "1995-09-30T00:00:00+01:00",
          "1995-12-31T00:00:00Z",
          "1996-03-31T00:00:00Z",
          "1996-06-30T00:00:00+01:00",
          "1996-09-30T00:00:00+01:00",
          "1996-12-31T00:00:00Z",
          "1997-03-31T00:00:00+01:00",
          "1997-06-30T00:00:00+01:00",
          "1997-09-30T00:00:00+01:00",
          "1997-12-31T00:00:00Z",
          "1998-03-31T00:00:00+01:00",
          "1998-06-30T00:00:00+01:00",
          "1998-09-30T00:00:00+01:00",
          "1998-12-31T00:00:00Z",
          "1999-03-31T00:00:00+01:00",
          "1999-06-30T00:00:00+01:00",
          "1999-09-30T00:00:00+01:00",
          "1999-12-31T00:00:00Z",
          "2000-03-31T00:00:00+01:00",
          "2000-06-30T00:00:00+01:00",
          "2000-09-30T00:00:00+01:00",
          "2000-12-31T00:00:00Z",
          "2001-03-31T00:00:00+01:00",
          "2001-06-30T00:00:00+01:00",
          "2001-09-30T00:00:00+01:00",
          "2001-12-31T00:00:00Z",
          "2002-03-31T00:00:00Z",
          "2002-06-30T00:00:00+01:00",
          "2002-09-30T00:00:00+01:00",
          "2002-12-31T00:00:00Z",
          "2003-03-31T00:00:00+01:00",
          "2003-06-30T00:00:00+01:00",
          "2003-09-30T00:00:00+01:00",
          "2003-12-31T00:00:00Z",
          "2004-03-31T00:00:00+01:00",
          "2004-06-30T00:00:00+01:00",
          "2004-09-30T00:00:00+01:00",
          "2004-12-31T00:00:00Z",
          "2005-03-31T00:00:00+01:00",
          "2005-06-30T00:00:00+01:00",
          "2005-09-30T00:00:00+01:00",
          "2005-12-31T00:00:00Z",
          "2006-03-31T00:00:00+01:00",
          "2006-06-30T00:00:00+01:00",
          "2006-09-30T00:00:00+01:00",
          "2006-12-31T00:00:00Z",
          "2007-03-31T00:00:00+01:00",
          "2007-06-30T00:00:00+01:00",
          "2007-09-30T00:00:00+01:00",
          "2007-12-31T00:00:00Z",
          "2008-03-31T00:00:00+01:00",
          "2008-06-30T00:00:00+01:00",
          "2008-09-30T00:00:00+01:00",
          "2008-12-31T00:00:00Z",
          "2009-03-31T00:00:00+01:00",
          "2009-06-30T00:00:00+01:00",
          "2009-09-30T00:00:00+01:00",
          "2009-12-31T00:00:00Z",
          "2010-03-31T00:00:00+01:00",
          "2010-06-30T00:00:00+01:00",
          "2010-09-30T00:00:00+01:00",
          "2010-12-31T00:00:00Z",
          "2011-03-31T00:00:00+01:00",
          "2011-06-30T00:00:00+01:00",
          "2011-09-30T00:00:00+01:00",
          "2011-12-31T00:00:00Z",
          "2012-03-31T00:00:00+01:00",
          "2012-06-30T00:00:00+01:00",
          "2012-09-30T00:00:00+01:00",
          "2012-12-31T00:00:00Z",
          "2013-03-31T00:00:00Z",
          "2013-06-30T00:00:00+01:00",
          "2013-09-30T00:00:00+01:00",
          "2013-12-31T00:00:00Z",
          "2014-03-31T00:00:00+01:00",
          "2014-06-30T00:00:00+01:00",
          "2014-09-30T00:00:00+01:00",
          "2014-12-31T00:00:00Z",
          "2015-03-31T00:00:00+01:00",
          "2015-06-30T00:00:00+01:00",
          "2015-09-30T00:00:00+01:00",
          "2015-12-31T00:00:00Z",
          "2016-03-31T00:00:00+01:00",
          "2016-06-30T00:00:00+01:00",
          "2016-09-30T00:00:00+01:00",
          "2016-12-31T00:00:00Z",
          "2017-03-31T00:00:00+01:00",
          "2017-06-30T00:00:00+01:00",
          "2017-09-30T00:00:00+01:00",
          "2017-12-31T00:00:00Z",
          "2018-03-31T00:00:00+01:00",
          "2018-06-30T00:00:00+01:00",
          "2018-09-30T00:00:00+01:00",
          "2018-12-31T00:00:00Z",
          "2019-03-31T00:00:00Z",
          "2019-06-30T00:00:00+01:00",
          "2019-09-30T00:00:00+01:00",
          "2019-12-31T00:00:00Z",
          "2020-03-31T00:00:00+01:00",
          "2020-06-30T00:00:00+01:00",
          "2020-09-30T00:00:00+01:00",
          "2020-12-31T00:00:00Z",
          "2021-03-31T00:00:00+01:00",
          "2021-06-30T00:00:00+01:00",
          "2021-09-30T00:00:00+01:00",
          "2021-12-31T00:00:00Z",
          "2022-03-31T00:00:00+01:00",
          "2022-06-30T00:00:00+01:00",
          "2022-09-30T00:00:00+01:00",
          "2022-12-31T00:00:00Z",
          "2023-03-31T00:00:00+01:00",
          "2023-06-30T00:00:00+01:00",
          "2023-09-30T00:00:00+01:00"
         ],
         "xaxis": "x",
         "y": [
          "nan",
          "nan",
          "nan",
          "nan",
          "nan",
          "nan",
          "nan",
          "nan",
          "nan",
          "nan",
          "nan",
          "nan",
          "nan",
          "nan",
          "nan",
          "nan",
          "nan",
          "nan",
          "nan",
          "nan",
          "nan",
          "nan",
          "nan",
          "nan",
          "nan",
          "nan",
          "nan",
          "nan",
          "nan",
          "nan",
          "nan",
          "nan",
          "nan",
          "nan",
          "nan",
          "nan",
          "nan",
          "nan",
          "nan",
          "nan",
          "nan",
          "nan",
          "nan",
          "nan",
          "nan",
          "nan",
          "nan",
          "nan",
          "nan",
          "nan",
          "nan",
          "nan",
          "nan",
          "nan",
          "nan",
          "nan",
          "nan",
          "nan",
          "nan",
          "nan",
          "nan",
          "nan",
          "nan",
          "nan",
          "nan",
          "nan",
          "nan",
          334842,
          322377,
          318280,
          306065,
          311953,
          303334,
          289444,
          283145,
          239829,
          193384,
          186275,
          183128,
          161445,
          159483,
          155442,
          148834,
          138830,
          140553,
          134910,
          127467,
          110713,
          97207,
          87684,
          84460,
          79849,
          78315,
          70982,
          65737,
          57285,
          56549,
          60140,
          57635,
          57123,
          57575,
          58522,
          59779,
          57380,
          58027,
          57968,
          60283,
          69913,
          67270,
          62897,
          59627,
          55444,
          49896,
          48596,
          47265,
          45610,
          44159,
          42432,
          40698,
          39859,
          42836,
          41143
         ],
         "yaxis": "y"
        },
        {
         "histnorm": "probability density",
         "name": "Histogram",
         "nbinsy": 10,
         "orientation": "h",
         "type": "histogram",
         "uid": "1b727682-21f2-42fd-b315-70f2b6e9d674",
         "xaxis": "x2",
         "y": [
          334842,
          322377,
          318280,
          306065,
          311953,
          303334,
          289444,
          283145,
          239829,
          193384,
          186275,
          183128,
          161445,
          159483,
          155442,
          148834,
          138830,
          140553,
          134910,
          127467,
          110713,
          97207,
          87684,
          84460,
          79849,
          78315,
          70982,
          65737,
          57285,
          56549,
          60140,
          57635,
          57123,
          57575,
          58522,
          59779,
          57380,
          58027,
          57968,
          60283,
          69913,
          67270,
          62897,
          59627,
          55444,
          49896,
          48596,
          47265,
          45610,
          44159,
          42432,
          40698,
          39859,
          42836,
          41143
         ],
         "yaxis": "y2"
        },
        {
         "line": {
          "color": "black"
         },
         "mode": "lines",
         "name": "KDE",
         "type": "scatter",
         "uid": "3e01b4d4-d4bf-45f5-a525-2a394da69705",
         "x": {
          "dtype": "float64",
          "shape": [
           50
          ],
          "value": {}
         },
         "xaxis": "x2",
         "y": {
          "dtype": "float64",
          "shape": [
           50
          ],
          "value": {}
         },
         "yaxis": "y2"
        }
       ],
       "_js2py_layoutDelta": {},
       "_js2py_pointsCallback": {},
       "_js2py_relayout": {},
       "_js2py_restyle": {},
       "_js2py_traceDeltas": {},
       "_js2py_update": {},
       "_last_layout_edit_id": 99,
       "_last_trace_edit_id": 99,
       "_layout": {
        "annotations": [
         {
          "font": {
           "size": 16
          },
          "showarrow": false,
          "text": "Scatter",
          "x": 0.225,
          "xanchor": "center",
          "xref": "paper",
          "y": 1,
          "yanchor": "bottom",
          "yref": "paper"
         },
         {
          "font": {
           "size": 16
          },
          "showarrow": false,
          "text": "Histogram & KDE",
          "x": 0.775,
          "xanchor": "center",
          "xref": "paper",
          "y": 1,
          "yanchor": "bottom",
          "yref": "paper"
         }
        ],
        "height": 500,
        "template": {
         "data": {
          "bar": [
           {
            "error_x": {
             "color": "rgb(36,36,36)"
            },
            "error_y": {
             "color": "rgb(36,36,36)"
            },
            "marker": {
             "line": {
              "color": "white",
              "width": 0.5
             },
             "pattern": {
              "fillmode": "overlay",
              "size": 10,
              "solidity": 0.2
             }
            },
            "type": "bar"
           }
          ],
          "barpolar": [
           {
            "marker": {
             "line": {
              "color": "white",
              "width": 0.5
             },
             "pattern": {
              "fillmode": "overlay",
              "size": 10,
              "solidity": 0.2
             }
            },
            "type": "barpolar"
           }
          ],
          "carpet": [
           {
            "aaxis": {
             "endlinecolor": "rgb(36,36,36)",
             "gridcolor": "white",
             "linecolor": "white",
             "minorgridcolor": "white",
             "startlinecolor": "rgb(36,36,36)"
            },
            "baxis": {
             "endlinecolor": "rgb(36,36,36)",
             "gridcolor": "white",
             "linecolor": "white",
             "minorgridcolor": "white",
             "startlinecolor": "rgb(36,36,36)"
            },
            "type": "carpet"
           }
          ],
          "choropleth": [
           {
            "colorbar": {
             "outlinewidth": 1,
             "tickcolor": "rgb(36,36,36)",
             "ticks": "outside"
            },
            "type": "choropleth"
           }
          ],
          "contour": [
           {
            "colorbar": {
             "outlinewidth": 1,
             "tickcolor": "rgb(36,36,36)",
             "ticks": "outside"
            },
            "colorscale": [
             [
              0,
              "#440154"
             ],
             [
              0.1111111111111111,
              "#482878"
             ],
             [
              0.2222222222222222,
              "#3e4989"
             ],
             [
              0.3333333333333333,
              "#31688e"
             ],
             [
              0.4444444444444444,
              "#26828e"
             ],
             [
              0.5555555555555556,
              "#1f9e89"
             ],
             [
              0.6666666666666666,
              "#35b779"
             ],
             [
              0.7777777777777778,
              "#6ece58"
             ],
             [
              0.8888888888888888,
              "#b5de2b"
             ],
             [
              1,
              "#fde725"
             ]
            ],
            "type": "contour"
           }
          ],
          "contourcarpet": [
           {
            "colorbar": {
             "outlinewidth": 1,
             "tickcolor": "rgb(36,36,36)",
             "ticks": "outside"
            },
            "type": "contourcarpet"
           }
          ],
          "heatmap": [
           {
            "colorbar": {
             "outlinewidth": 1,
             "tickcolor": "rgb(36,36,36)",
             "ticks": "outside"
            },
            "colorscale": [
             [
              0,
              "#440154"
             ],
             [
              0.1111111111111111,
              "#482878"
             ],
             [
              0.2222222222222222,
              "#3e4989"
             ],
             [
              0.3333333333333333,
              "#31688e"
             ],
             [
              0.4444444444444444,
              "#26828e"
             ],
             [
              0.5555555555555556,
              "#1f9e89"
             ],
             [
              0.6666666666666666,
              "#35b779"
             ],
             [
              0.7777777777777778,
              "#6ece58"
             ],
             [
              0.8888888888888888,
              "#b5de2b"
             ],
             [
              1,
              "#fde725"
             ]
            ],
            "type": "heatmap"
           }
          ],
          "heatmapgl": [
           {
            "colorbar": {
             "outlinewidth": 1,
             "tickcolor": "rgb(36,36,36)",
             "ticks": "outside"
            },
            "colorscale": [
             [
              0,
              "#440154"
             ],
             [
              0.1111111111111111,
              "#482878"
             ],
             [
              0.2222222222222222,
              "#3e4989"
             ],
             [
              0.3333333333333333,
              "#31688e"
             ],
             [
              0.4444444444444444,
              "#26828e"
             ],
             [
              0.5555555555555556,
              "#1f9e89"
             ],
             [
              0.6666666666666666,
              "#35b779"
             ],
             [
              0.7777777777777778,
              "#6ece58"
             ],
             [
              0.8888888888888888,
              "#b5de2b"
             ],
             [
              1,
              "#fde725"
             ]
            ],
            "type": "heatmapgl"
           }
          ],
          "histogram": [
           {
            "marker": {
             "line": {
              "color": "white",
              "width": 0.6
             }
            },
            "type": "histogram"
           }
          ],
          "histogram2d": [
           {
            "colorbar": {
             "outlinewidth": 1,
             "tickcolor": "rgb(36,36,36)",
             "ticks": "outside"
            },
            "colorscale": [
             [
              0,
              "#440154"
             ],
             [
              0.1111111111111111,
              "#482878"
             ],
             [
              0.2222222222222222,
              "#3e4989"
             ],
             [
              0.3333333333333333,
              "#31688e"
             ],
             [
              0.4444444444444444,
              "#26828e"
             ],
             [
              0.5555555555555556,
              "#1f9e89"
             ],
             [
              0.6666666666666666,
              "#35b779"
             ],
             [
              0.7777777777777778,
              "#6ece58"
             ],
             [
              0.8888888888888888,
              "#b5de2b"
             ],
             [
              1,
              "#fde725"
             ]
            ],
            "type": "histogram2d"
           }
          ],
          "histogram2dcontour": [
           {
            "colorbar": {
             "outlinewidth": 1,
             "tickcolor": "rgb(36,36,36)",
             "ticks": "outside"
            },
            "colorscale": [
             [
              0,
              "#440154"
             ],
             [
              0.1111111111111111,
              "#482878"
             ],
             [
              0.2222222222222222,
              "#3e4989"
             ],
             [
              0.3333333333333333,
              "#31688e"
             ],
             [
              0.4444444444444444,
              "#26828e"
             ],
             [
              0.5555555555555556,
              "#1f9e89"
             ],
             [
              0.6666666666666666,
              "#35b779"
             ],
             [
              0.7777777777777778,
              "#6ece58"
             ],
             [
              0.8888888888888888,
              "#b5de2b"
             ],
             [
              1,
              "#fde725"
             ]
            ],
            "type": "histogram2dcontour"
           }
          ],
          "mesh3d": [
           {
            "colorbar": {
             "outlinewidth": 1,
             "tickcolor": "rgb(36,36,36)",
             "ticks": "outside"
            },
            "type": "mesh3d"
           }
          ],
          "parcoords": [
           {
            "line": {
             "colorbar": {
              "outlinewidth": 1,
              "tickcolor": "rgb(36,36,36)",
              "ticks": "outside"
             }
            },
            "type": "parcoords"
           }
          ],
          "pie": [
           {
            "automargin": true,
            "type": "pie"
           }
          ],
          "scatter": [
           {
            "fillpattern": {
             "fillmode": "overlay",
             "size": 10,
             "solidity": 0.2
            },
            "type": "scatter"
           }
          ],
          "scatter3d": [
           {
            "line": {
             "colorbar": {
              "outlinewidth": 1,
              "tickcolor": "rgb(36,36,36)",
              "ticks": "outside"
             }
            },
            "marker": {
             "colorbar": {
              "outlinewidth": 1,
              "tickcolor": "rgb(36,36,36)",
              "ticks": "outside"
             }
            },
            "type": "scatter3d"
           }
          ],
          "scattercarpet": [
           {
            "marker": {
             "colorbar": {
              "outlinewidth": 1,
              "tickcolor": "rgb(36,36,36)",
              "ticks": "outside"
             }
            },
            "type": "scattercarpet"
           }
          ],
          "scattergeo": [
           {
            "marker": {
             "colorbar": {
              "outlinewidth": 1,
              "tickcolor": "rgb(36,36,36)",
              "ticks": "outside"
             }
            },
            "type": "scattergeo"
           }
          ],
          "scattergl": [
           {
            "marker": {
             "colorbar": {
              "outlinewidth": 1,
              "tickcolor": "rgb(36,36,36)",
              "ticks": "outside"
             }
            },
            "type": "scattergl"
           }
          ],
          "scattermapbox": [
           {
            "marker": {
             "colorbar": {
              "outlinewidth": 1,
              "tickcolor": "rgb(36,36,36)",
              "ticks": "outside"
             }
            },
            "type": "scattermapbox"
           }
          ],
          "scatterpolar": [
           {
            "marker": {
             "colorbar": {
              "outlinewidth": 1,
              "tickcolor": "rgb(36,36,36)",
              "ticks": "outside"
             }
            },
            "type": "scatterpolar"
           }
          ],
          "scatterpolargl": [
           {
            "marker": {
             "colorbar": {
              "outlinewidth": 1,
              "tickcolor": "rgb(36,36,36)",
              "ticks": "outside"
             }
            },
            "type": "scatterpolargl"
           }
          ],
          "scatterternary": [
           {
            "marker": {
             "colorbar": {
              "outlinewidth": 1,
              "tickcolor": "rgb(36,36,36)",
              "ticks": "outside"
             }
            },
            "type": "scatterternary"
           }
          ],
          "surface": [
           {
            "colorbar": {
             "outlinewidth": 1,
             "tickcolor": "rgb(36,36,36)",
             "ticks": "outside"
            },
            "colorscale": [
             [
              0,
              "#440154"
             ],
             [
              0.1111111111111111,
              "#482878"
             ],
             [
              0.2222222222222222,
              "#3e4989"
             ],
             [
              0.3333333333333333,
              "#31688e"
             ],
             [
              0.4444444444444444,
              "#26828e"
             ],
             [
              0.5555555555555556,
              "#1f9e89"
             ],
             [
              0.6666666666666666,
              "#35b779"
             ],
             [
              0.7777777777777778,
              "#6ece58"
             ],
             [
              0.8888888888888888,
              "#b5de2b"
             ],
             [
              1,
              "#fde725"
             ]
            ],
            "type": "surface"
           }
          ],
          "table": [
           {
            "cells": {
             "fill": {
              "color": "rgb(237,237,237)"
             },
             "line": {
              "color": "white"
             }
            },
            "header": {
             "fill": {
              "color": "rgb(217,217,217)"
             },
             "line": {
              "color": "white"
             }
            },
            "type": "table"
           }
          ]
         },
         "layout": {
          "annotationdefaults": {
           "arrowhead": 0,
           "arrowwidth": 1
          },
          "autotypenumbers": "strict",
          "coloraxis": {
           "colorbar": {
            "outlinewidth": 1,
            "tickcolor": "rgb(36,36,36)",
            "ticks": "outside"
           }
          },
          "colorscale": {
           "diverging": [
            [
             0,
             "rgb(103,0,31)"
            ],
            [
             0.1,
             "rgb(178,24,43)"
            ],
            [
             0.2,
             "rgb(214,96,77)"
            ],
            [
             0.3,
             "rgb(244,165,130)"
            ],
            [
             0.4,
             "rgb(253,219,199)"
            ],
            [
             0.5,
             "rgb(247,247,247)"
            ],
            [
             0.6,
             "rgb(209,229,240)"
            ],
            [
             0.7,
             "rgb(146,197,222)"
            ],
            [
             0.8,
             "rgb(67,147,195)"
            ],
            [
             0.9,
             "rgb(33,102,172)"
            ],
            [
             1,
             "rgb(5,48,97)"
            ]
           ],
           "sequential": [
            [
             0,
             "#440154"
            ],
            [
             0.1111111111111111,
             "#482878"
            ],
            [
             0.2222222222222222,
             "#3e4989"
            ],
            [
             0.3333333333333333,
             "#31688e"
            ],
            [
             0.4444444444444444,
             "#26828e"
            ],
            [
             0.5555555555555556,
             "#1f9e89"
            ],
            [
             0.6666666666666666,
             "#35b779"
            ],
            [
             0.7777777777777778,
             "#6ece58"
            ],
            [
             0.8888888888888888,
             "#b5de2b"
            ],
            [
             1,
             "#fde725"
            ]
           ],
           "sequentialminus": [
            [
             0,
             "#440154"
            ],
            [
             0.1111111111111111,
             "#482878"
            ],
            [
             0.2222222222222222,
             "#3e4989"
            ],
            [
             0.3333333333333333,
             "#31688e"
            ],
            [
             0.4444444444444444,
             "#26828e"
            ],
            [
             0.5555555555555556,
             "#1f9e89"
            ],
            [
             0.6666666666666666,
             "#35b779"
            ],
            [
             0.7777777777777778,
             "#6ece58"
            ],
            [
             0.8888888888888888,
             "#b5de2b"
            ],
            [
             1,
             "#fde725"
            ]
           ]
          },
          "colorway": [
           "#1F77B4",
           "#FF7F0E",
           "#2CA02C",
           "#D62728",
           "#9467BD",
           "#8C564B",
           "#E377C2",
           "#7F7F7F",
           "#BCBD22",
           "#17BECF"
          ],
          "font": {
           "color": "rgb(36,36,36)"
          },
          "geo": {
           "bgcolor": "white",
           "lakecolor": "white",
           "landcolor": "white",
           "showlakes": true,
           "showland": true,
           "subunitcolor": "white"
          },
          "hoverlabel": {
           "align": "left"
          },
          "hovermode": "closest",
          "mapbox": {
           "style": "light"
          },
          "paper_bgcolor": "white",
          "plot_bgcolor": "white",
          "polar": {
           "angularaxis": {
            "gridcolor": "rgb(232,232,232)",
            "linecolor": "rgb(36,36,36)",
            "showgrid": false,
            "showline": true,
            "ticks": "outside"
           },
           "bgcolor": "white",
           "radialaxis": {
            "gridcolor": "rgb(232,232,232)",
            "linecolor": "rgb(36,36,36)",
            "showgrid": false,
            "showline": true,
            "ticks": "outside"
           }
          },
          "scene": {
           "xaxis": {
            "backgroundcolor": "white",
            "gridcolor": "rgb(232,232,232)",
            "gridwidth": 2,
            "linecolor": "rgb(36,36,36)",
            "showbackground": true,
            "showgrid": false,
            "showline": true,
            "ticks": "outside",
            "zeroline": false,
            "zerolinecolor": "rgb(36,36,36)"
           },
           "yaxis": {
            "backgroundcolor": "white",
            "gridcolor": "rgb(232,232,232)",
            "gridwidth": 2,
            "linecolor": "rgb(36,36,36)",
            "showbackground": true,
            "showgrid": false,
            "showline": true,
            "ticks": "outside",
            "zeroline": false,
            "zerolinecolor": "rgb(36,36,36)"
           },
           "zaxis": {
            "backgroundcolor": "white",
            "gridcolor": "rgb(232,232,232)",
            "gridwidth": 2,
            "linecolor": "rgb(36,36,36)",
            "showbackground": true,
            "showgrid": false,
            "showline": true,
            "ticks": "outside",
            "zeroline": false,
            "zerolinecolor": "rgb(36,36,36)"
           }
          },
          "shapedefaults": {
           "fillcolor": "black",
           "line": {
            "width": 0
           },
           "opacity": 0.3
          },
          "ternary": {
           "aaxis": {
            "gridcolor": "rgb(232,232,232)",
            "linecolor": "rgb(36,36,36)",
            "showgrid": false,
            "showline": true,
            "ticks": "outside"
           },
           "baxis": {
            "gridcolor": "rgb(232,232,232)",
            "linecolor": "rgb(36,36,36)",
            "showgrid": false,
            "showline": true,
            "ticks": "outside"
           },
           "bgcolor": "white",
           "caxis": {
            "gridcolor": "rgb(232,232,232)",
            "linecolor": "rgb(36,36,36)",
            "showgrid": false,
            "showline": true,
            "ticks": "outside"
           }
          },
          "title": {
           "x": 0.05
          },
          "xaxis": {
           "automargin": true,
           "gridcolor": "rgb(232,232,232)",
           "linecolor": "rgb(36,36,36)",
           "showgrid": false,
           "showline": true,
           "ticks": "outside",
           "title": {
            "standoff": 15
           },
           "zeroline": false,
           "zerolinecolor": "rgb(36,36,36)"
          },
          "yaxis": {
           "automargin": true,
           "gridcolor": "rgb(232,232,232)",
           "linecolor": "rgb(36,36,36)",
           "showgrid": false,
           "showline": true,
           "ticks": "outside",
           "title": {
            "standoff": 15
           },
           "zeroline": false,
           "zerolinecolor": "rgb(36,36,36)"
          }
         }
        },
        "width": 1000,
        "xaxis": {
         "anchor": "y",
         "domain": [
          0,
          0.45
         ]
        },
        "xaxis2": {
         "anchor": "y2",
         "domain": [
          0.55,
          1
         ]
        },
        "yaxis": {
         "anchor": "x",
         "domain": [
          0,
          1
         ]
        },
        "yaxis2": {
         "anchor": "x2",
         "domain": [
          0,
          1
         ]
        }
       },
       "_py2js_animate": {},
       "_py2js_deleteTraces": {},
       "_py2js_moveTraces": {},
       "_py2js_relayout": {},
       "_py2js_removeLayoutProps": {},
       "_py2js_removeTraceProps": {},
       "_view_count": 0
      }
     },
     "c78bf640000342989b84254703931789": {
      "model_module": "@jupyter-widgets/output",
      "model_module_version": "1.0.0",
      "model_name": "OutputModel",
      "state": {
       "layout": "IPY_MODEL_f6caa565ab1249dbba931203d5a53184",
       "outputs": [
        {
         "data": {
          "application/vnd.plotly.v1+json": {
           "config": {
            "plotlyServerURL": "https://plot.ly"
           },
           "data": [
            {
             "mode": "markers",
             "name": "Scatter",
             "type": "scatter",
             "uid": "9b8e589f-6ed4-4b20-b705-5f9409aced1e",
             "x": [
              "1993-06-30T00:00:00",
              "1993-09-30T00:00:00",
              "1993-12-31T00:00:00",
              "1994-03-31T00:00:00",
              "1994-06-30T00:00:00",
              "1994-09-30T00:00:00",
              "1994-12-31T00:00:00",
              "1995-03-31T00:00:00",
              "1995-06-30T00:00:00",
              "1995-09-30T00:00:00",
              "1995-12-31T00:00:00",
              "1996-03-31T00:00:00",
              "1996-06-30T00:00:00",
              "1996-09-30T00:00:00",
              "1996-12-31T00:00:00",
              "1997-03-31T00:00:00",
              "1997-06-30T00:00:00",
              "1997-09-30T00:00:00",
              "1997-12-31T00:00:00",
              "1998-03-31T00:00:00",
              "1998-06-30T00:00:00",
              "1998-09-30T00:00:00",
              "1998-12-31T00:00:00",
              "1999-03-31T00:00:00",
              "1999-06-30T00:00:00",
              "1999-09-30T00:00:00",
              "1999-12-31T00:00:00",
              "2000-03-31T00:00:00",
              "2000-06-30T00:00:00",
              "2000-09-30T00:00:00",
              "2000-12-31T00:00:00",
              "2001-03-31T00:00:00",
              "2001-06-30T00:00:00",
              "2001-09-30T00:00:00",
              "2001-12-31T00:00:00",
              "2002-03-31T00:00:00",
              "2002-06-30T00:00:00",
              "2002-09-30T00:00:00",
              "2002-12-31T00:00:00",
              "2003-03-31T00:00:00",
              "2003-06-30T00:00:00",
              "2003-09-30T00:00:00",
              "2003-12-31T00:00:00",
              "2004-03-31T00:00:00",
              "2004-06-30T00:00:00",
              "2004-09-30T00:00:00",
              "2004-12-31T00:00:00",
              "2005-03-31T00:00:00",
              "2005-06-30T00:00:00",
              "2005-09-30T00:00:00",
              "2005-12-31T00:00:00",
              "2006-03-31T00:00:00",
              "2006-06-30T00:00:00",
              "2006-09-30T00:00:00",
              "2006-12-31T00:00:00",
              "2007-03-31T00:00:00",
              "2007-06-30T00:00:00",
              "2007-09-30T00:00:00",
              "2007-12-31T00:00:00",
              "2008-03-31T00:00:00",
              "2008-06-30T00:00:00",
              "2008-09-30T00:00:00",
              "2008-12-31T00:00:00",
              "2009-03-31T00:00:00",
              "2009-06-30T00:00:00",
              "2009-09-30T00:00:00",
              "2009-12-31T00:00:00",
              "2010-03-31T00:00:00",
              "2010-06-30T00:00:00",
              "2010-09-30T00:00:00",
              "2010-12-31T00:00:00",
              "2011-03-31T00:00:00",
              "2011-06-30T00:00:00",
              "2011-09-30T00:00:00",
              "2011-12-31T00:00:00",
              "2012-03-31T00:00:00",
              "2012-06-30T00:00:00",
              "2012-09-30T00:00:00",
              "2012-12-31T00:00:00",
              "2013-03-31T00:00:00",
              "2013-06-30T00:00:00",
              "2013-09-30T00:00:00",
              "2013-12-31T00:00:00",
              "2014-03-31T00:00:00",
              "2014-06-30T00:00:00",
              "2014-09-30T00:00:00",
              "2014-12-31T00:00:00",
              "2015-03-31T00:00:00",
              "2015-06-30T00:00:00",
              "2015-09-30T00:00:00",
              "2015-12-31T00:00:00",
              "2016-03-31T00:00:00",
              "2016-06-30T00:00:00",
              "2016-09-30T00:00:00",
              "2016-12-31T00:00:00",
              "2017-03-31T00:00:00",
              "2017-06-30T00:00:00",
              "2017-09-30T00:00:00",
              "2017-12-31T00:00:00",
              "2018-03-31T00:00:00",
              "2018-06-30T00:00:00",
              "2018-09-30T00:00:00",
              "2018-12-31T00:00:00",
              "2019-03-31T00:00:00",
              "2019-06-30T00:00:00",
              "2019-09-30T00:00:00",
              "2019-12-31T00:00:00",
              "2020-03-31T00:00:00",
              "2020-06-30T00:00:00",
              "2020-09-30T00:00:00",
              "2020-12-31T00:00:00",
              "2021-03-31T00:00:00",
              "2021-06-30T00:00:00",
              "2021-09-30T00:00:00",
              "2021-12-31T00:00:00",
              "2022-03-31T00:00:00",
              "2022-06-30T00:00:00",
              "2022-09-30T00:00:00",
              "2022-12-31T00:00:00",
              "2023-03-31T00:00:00",
              "2023-06-30T00:00:00",
              "2023-09-30T00:00:00"
             ],
             "xaxis": "x",
             "y": [
              13333,
              14034,
              12668,
              11375,
              13976,
              15452,
              13538,
              11438,
              13720,
              14625,
              14133,
              13041,
              16758,
              19113,
              18618,
              14514,
              17989,
              20242,
              18304,
              15705,
              20661,
              24018,
              21510,
              18718,
              26114,
              30246,
              27792,
              22839,
              27903,
              28150,
              27300,
              27251,
              35868,
              40966,
              39048,
              37981,
              48562,
              54511,
              53795,
              49373,
              57169,
              65679,
              66818,
              57008,
              65544,
              68362,
              56069,
              47879,
              58782,
              66857,
              67004,
              59554,
              70739,
              76681,
              75585,
              67480,
              76400,
              79228,
              69775,
              62901,
              64095,
              55573,
              41731,
              29976,
              30684,
              36666,
              36511,
              27766,
              31943,
              35202,
              30715,
              26898,
              29993,
              35805,
              33757,
              30449,
              31328,
              33835,
              33679,
              30202,
              37732,
              44980,
              47053,
              42268,
              46553,
              50129,
              45932,
              39547,
              47077,
              56113,
              56700,
              56045,
              52613,
              59615,
              57864,
              54770,
              57485,
              63305,
              62433,
              55737,
              59885,
              64968,
              64747,
              55107,
              59051,
              65474,
              65494,
              58426,
              39566,
              56207,
              69441,
              74311,
              79082,
              65044,
              62843,
              67566,
              69197,
              76942,
              74230,
              54359,
              47843,
              57146
             ],
             "yaxis": "y"
            },
            {
             "histnorm": "probability density",
             "name": "Histogram",
             "nbinsy": 10,
             "orientation": "h",
             "type": "histogram",
             "uid": "dd727508-563a-42d0-9a57-ad9b626a6e1e",
             "xaxis": "x2",
             "y": [
              13333,
              14034,
              12668,
              11375,
              13976,
              15452,
              13538,
              11438,
              13720,
              14625,
              14133,
              13041,
              16758,
              19113,
              18618,
              14514,
              17989,
              20242,
              18304,
              15705,
              20661,
              24018,
              21510,
              18718,
              26114,
              30246,
              27792,
              22839,
              27903,
              28150,
              27300,
              27251,
              35868,
              40966,
              39048,
              37981,
              48562,
              54511,
              53795,
              49373,
              57169,
              65679,
              66818,
              57008,
              65544,
              68362,
              56069,
              47879,
              58782,
              66857,
              67004,
              59554,
              70739,
              76681,
              75585,
              67480,
              76400,
              79228,
              69775,
              62901,
              64095,
              55573,
              41731,
              29976,
              30684,
              36666,
              36511,
              27766,
              31943,
              35202,
              30715,
              26898,
              29993,
              35805,
              33757,
              30449,
              31328,
              33835,
              33679,
              30202,
              37732,
              44980,
              47053,
              42268,
              46553,
              50129,
              45932,
              39547,
              47077,
              56113,
              56700,
              56045,
              52613,
              59615,
              57864,
              54770,
              57485,
              63305,
              62433,
              55737,
              59885,
              64968,
              64747,
              55107,
              59051,
              65474,
              65494,
              58426,
              39566,
              56207,
              69441,
              74311,
              79082,
              65044,
              62843,
              67566,
              69197,
              76942,
              74230,
              54359,
              47843,
              57146
             ],
             "yaxis": "y2"
            },
            {
             "line": {
              "color": "black"
             },
             "mode": "lines",
             "name": "KDE",
             "type": "scatter",
             "uid": "af3107ca-57e6-4e7e-b1f6-d85d563ed756",
             "x": [
              0.000008817607828808626,
              0.000009805058875773236,
              0.000010685338501495058,
              0.000011439295693515836,
              0.000012062551903800502,
              0.000012564355991474953,
              0.000012963894198544472,
              0.000013284910916957299,
              0.000013549895275864189,
              0.000013775165733486838,
              0.000013967922657356947,
              0.000014125818732227395,
              0.000014238970959131883,
              0.000014293778700900599,
              0.00001427755930615519,
              0.000014182933790296346,
              0.000014011073037316502,
              0.000013773265068787209,
              0.00001349066880023726,
              0.000013192470192543358,
              0.000012912882634813764,
              0.000012687516279414826,
              0.00001254960785485437,
              0.000012526506166415282,
              0.000012636703953070914,
              0.000012887630410013695,
              0.000013274377522058552,
              0.000013779506453180224,
              0.00001437403193799216,
              0.000015019583008967683,
              0.000015671582946132737,
              0.000016283110215830406,
              0.00001680895261290718,
              0.000017209309566484033,
              0.000017452667132635113,
              0.000017517554188560153,
              0.00001739312820140025,
              0.000017078754056740536,
              0.000016582863567367956,
              0.000015921394475121983,
              0.000015116035424939751,
              0.00001419240880111512,
              0.000013178264483863582,
              0.000012101758361970995,
              0.000010989929822252232,
              0.000009867524506085405,
              0.000008756287780017205,
              0.000007674767371817555,
              0.000006638537672492619,
              0.000005660646842006559
             ],
             "xaxis": "x2",
             "y": [
              11375,
              12759.755102040817,
              14144.510204081633,
              15529.265306122448,
              16914.020408163266,
              18298.775510204083,
              19683.530612244896,
              21068.285714285714,
              22453.04081632653,
              23837.79591836735,
              25222.551020408166,
              26607.30612244898,
              27992.061224489797,
              29376.816326530614,
              30761.571428571428,
              32146.326530612245,
              33531.08163265306,
              34915.836734693876,
              36300.5918367347,
              37685.34693877551,
              39070.10204081633,
              40454.857142857145,
              41839.61224489796,
              43224.36734693877,
              44609.12244897959,
              45993.87755102041,
              47378.63265306123,
              48763.38775510204,
              50148.142857142855,
              51532.897959183676,
              52917.65306122449,
              54302.40816326531,
              55687.163265306124,
              57071.91836734694,
              58456.67346938776,
              59841.42857142857,
              61226.18367346939,
              62610.93877551021,
              63995.69387755102,
              65380.44897959184,
              66765.20408163266,
              68149.95918367346,
              69534.71428571429,
              70919.4693877551,
              72304.22448979592,
              73688.97959183675,
              75073.73469387754,
              76458.48979591837,
              77843.24489795919,
              79228
             ],
             "yaxis": "y2"
            }
           ],
           "layout": {
            "annotations": [
             {
              "font": {
               "size": 16
              },
              "showarrow": false,
              "text": "Scatter",
              "x": 0.225,
              "xanchor": "center",
              "xref": "paper",
              "y": 1,
              "yanchor": "bottom",
              "yref": "paper"
             },
             {
              "font": {
               "size": 16
              },
              "showarrow": false,
              "text": "Histogram & KDE",
              "x": 0.775,
              "xanchor": "center",
              "xref": "paper",
              "y": 1,
              "yanchor": "bottom",
              "yref": "paper"
             }
            ],
            "height": 500,
            "template": {
             "data": {
              "bar": [
               {
                "error_x": {
                 "color": "rgb(36,36,36)"
                },
                "error_y": {
                 "color": "rgb(36,36,36)"
                },
                "marker": {
                 "line": {
                  "color": "white",
                  "width": 0.5
                 },
                 "pattern": {
                  "fillmode": "overlay",
                  "size": 10,
                  "solidity": 0.2
                 }
                },
                "type": "bar"
               }
              ],
              "barpolar": [
               {
                "marker": {
                 "line": {
                  "color": "white",
                  "width": 0.5
                 },
                 "pattern": {
                  "fillmode": "overlay",
                  "size": 10,
                  "solidity": 0.2
                 }
                },
                "type": "barpolar"
               }
              ],
              "carpet": [
               {
                "aaxis": {
                 "endlinecolor": "rgb(36,36,36)",
                 "gridcolor": "white",
                 "linecolor": "white",
                 "minorgridcolor": "white",
                 "startlinecolor": "rgb(36,36,36)"
                },
                "baxis": {
                 "endlinecolor": "rgb(36,36,36)",
                 "gridcolor": "white",
                 "linecolor": "white",
                 "minorgridcolor": "white",
                 "startlinecolor": "rgb(36,36,36)"
                },
                "type": "carpet"
               }
              ],
              "choropleth": [
               {
                "colorbar": {
                 "outlinewidth": 1,
                 "tickcolor": "rgb(36,36,36)",
                 "ticks": "outside"
                },
                "type": "choropleth"
               }
              ],
              "contour": [
               {
                "colorbar": {
                 "outlinewidth": 1,
                 "tickcolor": "rgb(36,36,36)",
                 "ticks": "outside"
                },
                "colorscale": [
                 [
                  0,
                  "#440154"
                 ],
                 [
                  0.1111111111111111,
                  "#482878"
                 ],
                 [
                  0.2222222222222222,
                  "#3e4989"
                 ],
                 [
                  0.3333333333333333,
                  "#31688e"
                 ],
                 [
                  0.4444444444444444,
                  "#26828e"
                 ],
                 [
                  0.5555555555555556,
                  "#1f9e89"
                 ],
                 [
                  0.6666666666666666,
                  "#35b779"
                 ],
                 [
                  0.7777777777777778,
                  "#6ece58"
                 ],
                 [
                  0.8888888888888888,
                  "#b5de2b"
                 ],
                 [
                  1,
                  "#fde725"
                 ]
                ],
                "type": "contour"
               }
              ],
              "contourcarpet": [
               {
                "colorbar": {
                 "outlinewidth": 1,
                 "tickcolor": "rgb(36,36,36)",
                 "ticks": "outside"
                },
                "type": "contourcarpet"
               }
              ],
              "heatmap": [
               {
                "colorbar": {
                 "outlinewidth": 1,
                 "tickcolor": "rgb(36,36,36)",
                 "ticks": "outside"
                },
                "colorscale": [
                 [
                  0,
                  "#440154"
                 ],
                 [
                  0.1111111111111111,
                  "#482878"
                 ],
                 [
                  0.2222222222222222,
                  "#3e4989"
                 ],
                 [
                  0.3333333333333333,
                  "#31688e"
                 ],
                 [
                  0.4444444444444444,
                  "#26828e"
                 ],
                 [
                  0.5555555555555556,
                  "#1f9e89"
                 ],
                 [
                  0.6666666666666666,
                  "#35b779"
                 ],
                 [
                  0.7777777777777778,
                  "#6ece58"
                 ],
                 [
                  0.8888888888888888,
                  "#b5de2b"
                 ],
                 [
                  1,
                  "#fde725"
                 ]
                ],
                "type": "heatmap"
               }
              ],
              "heatmapgl": [
               {
                "colorbar": {
                 "outlinewidth": 1,
                 "tickcolor": "rgb(36,36,36)",
                 "ticks": "outside"
                },
                "colorscale": [
                 [
                  0,
                  "#440154"
                 ],
                 [
                  0.1111111111111111,
                  "#482878"
                 ],
                 [
                  0.2222222222222222,
                  "#3e4989"
                 ],
                 [
                  0.3333333333333333,
                  "#31688e"
                 ],
                 [
                  0.4444444444444444,
                  "#26828e"
                 ],
                 [
                  0.5555555555555556,
                  "#1f9e89"
                 ],
                 [
                  0.6666666666666666,
                  "#35b779"
                 ],
                 [
                  0.7777777777777778,
                  "#6ece58"
                 ],
                 [
                  0.8888888888888888,
                  "#b5de2b"
                 ],
                 [
                  1,
                  "#fde725"
                 ]
                ],
                "type": "heatmapgl"
               }
              ],
              "histogram": [
               {
                "marker": {
                 "line": {
                  "color": "white",
                  "width": 0.6
                 }
                },
                "type": "histogram"
               }
              ],
              "histogram2d": [
               {
                "colorbar": {
                 "outlinewidth": 1,
                 "tickcolor": "rgb(36,36,36)",
                 "ticks": "outside"
                },
                "colorscale": [
                 [
                  0,
                  "#440154"
                 ],
                 [
                  0.1111111111111111,
                  "#482878"
                 ],
                 [
                  0.2222222222222222,
                  "#3e4989"
                 ],
                 [
                  0.3333333333333333,
                  "#31688e"
                 ],
                 [
                  0.4444444444444444,
                  "#26828e"
                 ],
                 [
                  0.5555555555555556,
                  "#1f9e89"
                 ],
                 [
                  0.6666666666666666,
                  "#35b779"
                 ],
                 [
                  0.7777777777777778,
                  "#6ece58"
                 ],
                 [
                  0.8888888888888888,
                  "#b5de2b"
                 ],
                 [
                  1,
                  "#fde725"
                 ]
                ],
                "type": "histogram2d"
               }
              ],
              "histogram2dcontour": [
               {
                "colorbar": {
                 "outlinewidth": 1,
                 "tickcolor": "rgb(36,36,36)",
                 "ticks": "outside"
                },
                "colorscale": [
                 [
                  0,
                  "#440154"
                 ],
                 [
                  0.1111111111111111,
                  "#482878"
                 ],
                 [
                  0.2222222222222222,
                  "#3e4989"
                 ],
                 [
                  0.3333333333333333,
                  "#31688e"
                 ],
                 [
                  0.4444444444444444,
                  "#26828e"
                 ],
                 [
                  0.5555555555555556,
                  "#1f9e89"
                 ],
                 [
                  0.6666666666666666,
                  "#35b779"
                 ],
                 [
                  0.7777777777777778,
                  "#6ece58"
                 ],
                 [
                  0.8888888888888888,
                  "#b5de2b"
                 ],
                 [
                  1,
                  "#fde725"
                 ]
                ],
                "type": "histogram2dcontour"
               }
              ],
              "mesh3d": [
               {
                "colorbar": {
                 "outlinewidth": 1,
                 "tickcolor": "rgb(36,36,36)",
                 "ticks": "outside"
                },
                "type": "mesh3d"
               }
              ],
              "parcoords": [
               {
                "line": {
                 "colorbar": {
                  "outlinewidth": 1,
                  "tickcolor": "rgb(36,36,36)",
                  "ticks": "outside"
                 }
                },
                "type": "parcoords"
               }
              ],
              "pie": [
               {
                "automargin": true,
                "type": "pie"
               }
              ],
              "scatter": [
               {
                "fillpattern": {
                 "fillmode": "overlay",
                 "size": 10,
                 "solidity": 0.2
                },
                "type": "scatter"
               }
              ],
              "scatter3d": [
               {
                "line": {
                 "colorbar": {
                  "outlinewidth": 1,
                  "tickcolor": "rgb(36,36,36)",
                  "ticks": "outside"
                 }
                },
                "marker": {
                 "colorbar": {
                  "outlinewidth": 1,
                  "tickcolor": "rgb(36,36,36)",
                  "ticks": "outside"
                 }
                },
                "type": "scatter3d"
               }
              ],
              "scattercarpet": [
               {
                "marker": {
                 "colorbar": {
                  "outlinewidth": 1,
                  "tickcolor": "rgb(36,36,36)",
                  "ticks": "outside"
                 }
                },
                "type": "scattercarpet"
               }
              ],
              "scattergeo": [
               {
                "marker": {
                 "colorbar": {
                  "outlinewidth": 1,
                  "tickcolor": "rgb(36,36,36)",
                  "ticks": "outside"
                 }
                },
                "type": "scattergeo"
               }
              ],
              "scattergl": [
               {
                "marker": {
                 "colorbar": {
                  "outlinewidth": 1,
                  "tickcolor": "rgb(36,36,36)",
                  "ticks": "outside"
                 }
                },
                "type": "scattergl"
               }
              ],
              "scattermapbox": [
               {
                "marker": {
                 "colorbar": {
                  "outlinewidth": 1,
                  "tickcolor": "rgb(36,36,36)",
                  "ticks": "outside"
                 }
                },
                "type": "scattermapbox"
               }
              ],
              "scatterpolar": [
               {
                "marker": {
                 "colorbar": {
                  "outlinewidth": 1,
                  "tickcolor": "rgb(36,36,36)",
                  "ticks": "outside"
                 }
                },
                "type": "scatterpolar"
               }
              ],
              "scatterpolargl": [
               {
                "marker": {
                 "colorbar": {
                  "outlinewidth": 1,
                  "tickcolor": "rgb(36,36,36)",
                  "ticks": "outside"
                 }
                },
                "type": "scatterpolargl"
               }
              ],
              "scatterternary": [
               {
                "marker": {
                 "colorbar": {
                  "outlinewidth": 1,
                  "tickcolor": "rgb(36,36,36)",
                  "ticks": "outside"
                 }
                },
                "type": "scatterternary"
               }
              ],
              "surface": [
               {
                "colorbar": {
                 "outlinewidth": 1,
                 "tickcolor": "rgb(36,36,36)",
                 "ticks": "outside"
                },
                "colorscale": [
                 [
                  0,
                  "#440154"
                 ],
                 [
                  0.1111111111111111,
                  "#482878"
                 ],
                 [
                  0.2222222222222222,
                  "#3e4989"
                 ],
                 [
                  0.3333333333333333,
                  "#31688e"
                 ],
                 [
                  0.4444444444444444,
                  "#26828e"
                 ],
                 [
                  0.5555555555555556,
                  "#1f9e89"
                 ],
                 [
                  0.6666666666666666,
                  "#35b779"
                 ],
                 [
                  0.7777777777777778,
                  "#6ece58"
                 ],
                 [
                  0.8888888888888888,
                  "#b5de2b"
                 ],
                 [
                  1,
                  "#fde725"
                 ]
                ],
                "type": "surface"
               }
              ],
              "table": [
               {
                "cells": {
                 "fill": {
                  "color": "rgb(237,237,237)"
                 },
                 "line": {
                  "color": "white"
                 }
                },
                "header": {
                 "fill": {
                  "color": "rgb(217,217,217)"
                 },
                 "line": {
                  "color": "white"
                 }
                },
                "type": "table"
               }
              ]
             },
             "layout": {
              "annotationdefaults": {
               "arrowhead": 0,
               "arrowwidth": 1
              },
              "autotypenumbers": "strict",
              "coloraxis": {
               "colorbar": {
                "outlinewidth": 1,
                "tickcolor": "rgb(36,36,36)",
                "ticks": "outside"
               }
              },
              "colorscale": {
               "diverging": [
                [
                 0,
                 "rgb(103,0,31)"
                ],
                [
                 0.1,
                 "rgb(178,24,43)"
                ],
                [
                 0.2,
                 "rgb(214,96,77)"
                ],
                [
                 0.3,
                 "rgb(244,165,130)"
                ],
                [
                 0.4,
                 "rgb(253,219,199)"
                ],
                [
                 0.5,
                 "rgb(247,247,247)"
                ],
                [
                 0.6,
                 "rgb(209,229,240)"
                ],
                [
                 0.7,
                 "rgb(146,197,222)"
                ],
                [
                 0.8,
                 "rgb(67,147,195)"
                ],
                [
                 0.9,
                 "rgb(33,102,172)"
                ],
                [
                 1,
                 "rgb(5,48,97)"
                ]
               ],
               "sequential": [
                [
                 0,
                 "#440154"
                ],
                [
                 0.1111111111111111,
                 "#482878"
                ],
                [
                 0.2222222222222222,
                 "#3e4989"
                ],
                [
                 0.3333333333333333,
                 "#31688e"
                ],
                [
                 0.4444444444444444,
                 "#26828e"
                ],
                [
                 0.5555555555555556,
                 "#1f9e89"
                ],
                [
                 0.6666666666666666,
                 "#35b779"
                ],
                [
                 0.7777777777777778,
                 "#6ece58"
                ],
                [
                 0.8888888888888888,
                 "#b5de2b"
                ],
                [
                 1,
                 "#fde725"
                ]
               ],
               "sequentialminus": [
                [
                 0,
                 "#440154"
                ],
                [
                 0.1111111111111111,
                 "#482878"
                ],
                [
                 0.2222222222222222,
                 "#3e4989"
                ],
                [
                 0.3333333333333333,
                 "#31688e"
                ],
                [
                 0.4444444444444444,
                 "#26828e"
                ],
                [
                 0.5555555555555556,
                 "#1f9e89"
                ],
                [
                 0.6666666666666666,
                 "#35b779"
                ],
                [
                 0.7777777777777778,
                 "#6ece58"
                ],
                [
                 0.8888888888888888,
                 "#b5de2b"
                ],
                [
                 1,
                 "#fde725"
                ]
               ]
              },
              "colorway": [
               "#1F77B4",
               "#FF7F0E",
               "#2CA02C",
               "#D62728",
               "#9467BD",
               "#8C564B",
               "#E377C2",
               "#7F7F7F",
               "#BCBD22",
               "#17BECF"
              ],
              "font": {
               "color": "rgb(36,36,36)"
              },
              "geo": {
               "bgcolor": "white",
               "lakecolor": "white",
               "landcolor": "white",
               "showlakes": true,
               "showland": true,
               "subunitcolor": "white"
              },
              "hoverlabel": {
               "align": "left"
              },
              "hovermode": "closest",
              "mapbox": {
               "style": "light"
              },
              "paper_bgcolor": "white",
              "plot_bgcolor": "white",
              "polar": {
               "angularaxis": {
                "gridcolor": "rgb(232,232,232)",
                "linecolor": "rgb(36,36,36)",
                "showgrid": false,
                "showline": true,
                "ticks": "outside"
               },
               "bgcolor": "white",
               "radialaxis": {
                "gridcolor": "rgb(232,232,232)",
                "linecolor": "rgb(36,36,36)",
                "showgrid": false,
                "showline": true,
                "ticks": "outside"
               }
              },
              "scene": {
               "xaxis": {
                "backgroundcolor": "white",
                "gridcolor": "rgb(232,232,232)",
                "gridwidth": 2,
                "linecolor": "rgb(36,36,36)",
                "showbackground": true,
                "showgrid": false,
                "showline": true,
                "ticks": "outside",
                "zeroline": false,
                "zerolinecolor": "rgb(36,36,36)"
               },
               "yaxis": {
                "backgroundcolor": "white",
                "gridcolor": "rgb(232,232,232)",
                "gridwidth": 2,
                "linecolor": "rgb(36,36,36)",
                "showbackground": true,
                "showgrid": false,
                "showline": true,
                "ticks": "outside",
                "zeroline": false,
                "zerolinecolor": "rgb(36,36,36)"
               },
               "zaxis": {
                "backgroundcolor": "white",
                "gridcolor": "rgb(232,232,232)",
                "gridwidth": 2,
                "linecolor": "rgb(36,36,36)",
                "showbackground": true,
                "showgrid": false,
                "showline": true,
                "ticks": "outside",
                "zeroline": false,
                "zerolinecolor": "rgb(36,36,36)"
               }
              },
              "shapedefaults": {
               "fillcolor": "black",
               "line": {
                "width": 0
               },
               "opacity": 0.3
              },
              "ternary": {
               "aaxis": {
                "gridcolor": "rgb(232,232,232)",
                "linecolor": "rgb(36,36,36)",
                "showgrid": false,
                "showline": true,
                "ticks": "outside"
               },
               "baxis": {
                "gridcolor": "rgb(232,232,232)",
                "linecolor": "rgb(36,36,36)",
                "showgrid": false,
                "showline": true,
                "ticks": "outside"
               },
               "bgcolor": "white",
               "caxis": {
                "gridcolor": "rgb(232,232,232)",
                "linecolor": "rgb(36,36,36)",
                "showgrid": false,
                "showline": true,
                "ticks": "outside"
               }
              },
              "title": {
               "x": 0.05
              },
              "xaxis": {
               "automargin": true,
               "gridcolor": "rgb(232,232,232)",
               "linecolor": "rgb(36,36,36)",
               "showgrid": false,
               "showline": true,
               "ticks": "outside",
               "title": {
                "standoff": 15
               },
               "zeroline": false,
               "zerolinecolor": "rgb(36,36,36)"
              },
              "yaxis": {
               "automargin": true,
               "gridcolor": "rgb(232,232,232)",
               "linecolor": "rgb(36,36,36)",
               "showgrid": false,
               "showline": true,
               "ticks": "outside",
               "title": {
                "standoff": 15
               },
               "zeroline": false,
               "zerolinecolor": "rgb(36,36,36)"
              }
             }
            },
            "width": 1000,
            "xaxis": {
             "anchor": "y",
             "domain": [
              0,
              0.45
             ]
            },
            "xaxis2": {
             "anchor": "y2",
             "domain": [
              0.55,
              1
             ]
            },
            "yaxis": {
             "anchor": "x",
             "domain": [
              0,
              1
             ]
            },
            "yaxis2": {
             "anchor": "x2",
             "domain": [
              0,
              1
             ]
            }
           }
          },
          "text/html": "<div>                            <div id=\"04e5a059-2f31-416d-a579-9651f0c66cfa\" class=\"plotly-graph-div\" style=\"height:500px; width:1000px;\"></div>            <script type=\"text/javascript\">                require([\"plotly\"], function(Plotly) {                    window.PLOTLYENV=window.PLOTLYENV || {};                                    if (document.getElementById(\"04e5a059-2f31-416d-a579-9651f0c66cfa\")) {                    Plotly.newPlot(                        \"04e5a059-2f31-416d-a579-9651f0c66cfa\",                        [{\"mode\":\"markers\",\"name\":\"Scatter\",\"x\":[\"1993-06-30T00:00:00\",\"1993-09-30T00:00:00\",\"1993-12-31T00:00:00\",\"1994-03-31T00:00:00\",\"1994-06-30T00:00:00\",\"1994-09-30T00:00:00\",\"1994-12-31T00:00:00\",\"1995-03-31T00:00:00\",\"1995-06-30T00:00:00\",\"1995-09-30T00:00:00\",\"1995-12-31T00:00:00\",\"1996-03-31T00:00:00\",\"1996-06-30T00:00:00\",\"1996-09-30T00:00:00\",\"1996-12-31T00:00:00\",\"1997-03-31T00:00:00\",\"1997-06-30T00:00:00\",\"1997-09-30T00:00:00\",\"1997-12-31T00:00:00\",\"1998-03-31T00:00:00\",\"1998-06-30T00:00:00\",\"1998-09-30T00:00:00\",\"1998-12-31T00:00:00\",\"1999-03-31T00:00:00\",\"1999-06-30T00:00:00\",\"1999-09-30T00:00:00\",\"1999-12-31T00:00:00\",\"2000-03-31T00:00:00\",\"2000-06-30T00:00:00\",\"2000-09-30T00:00:00\",\"2000-12-31T00:00:00\",\"2001-03-31T00:00:00\",\"2001-06-30T00:00:00\",\"2001-09-30T00:00:00\",\"2001-12-31T00:00:00\",\"2002-03-31T00:00:00\",\"2002-06-30T00:00:00\",\"2002-09-30T00:00:00\",\"2002-12-31T00:00:00\",\"2003-03-31T00:00:00\",\"2003-06-30T00:00:00\",\"2003-09-30T00:00:00\",\"2003-12-31T00:00:00\",\"2004-03-31T00:00:00\",\"2004-06-30T00:00:00\",\"2004-09-30T00:00:00\",\"2004-12-31T00:00:00\",\"2005-03-31T00:00:00\",\"2005-06-30T00:00:00\",\"2005-09-30T00:00:00\",\"2005-12-31T00:00:00\",\"2006-03-31T00:00:00\",\"2006-06-30T00:00:00\",\"2006-09-30T00:00:00\",\"2006-12-31T00:00:00\",\"2007-03-31T00:00:00\",\"2007-06-30T00:00:00\",\"2007-09-30T00:00:00\",\"2007-12-31T00:00:00\",\"2008-03-31T00:00:00\",\"2008-06-30T00:00:00\",\"2008-09-30T00:00:00\",\"2008-12-31T00:00:00\",\"2009-03-31T00:00:00\",\"2009-06-30T00:00:00\",\"2009-09-30T00:00:00\",\"2009-12-31T00:00:00\",\"2010-03-31T00:00:00\",\"2010-06-30T00:00:00\",\"2010-09-30T00:00:00\",\"2010-12-31T00:00:00\",\"2011-03-31T00:00:00\",\"2011-06-30T00:00:00\",\"2011-09-30T00:00:00\",\"2011-12-31T00:00:00\",\"2012-03-31T00:00:00\",\"2012-06-30T00:00:00\",\"2012-09-30T00:00:00\",\"2012-12-31T00:00:00\",\"2013-03-31T00:00:00\",\"2013-06-30T00:00:00\",\"2013-09-30T00:00:00\",\"2013-12-31T00:00:00\",\"2014-03-31T00:00:00\",\"2014-06-30T00:00:00\",\"2014-09-30T00:00:00\",\"2014-12-31T00:00:00\",\"2015-03-31T00:00:00\",\"2015-06-30T00:00:00\",\"2015-09-30T00:00:00\",\"2015-12-31T00:00:00\",\"2016-03-31T00:00:00\",\"2016-06-30T00:00:00\",\"2016-09-30T00:00:00\",\"2016-12-31T00:00:00\",\"2017-03-31T00:00:00\",\"2017-06-30T00:00:00\",\"2017-09-30T00:00:00\",\"2017-12-31T00:00:00\",\"2018-03-31T00:00:00\",\"2018-06-30T00:00:00\",\"2018-09-30T00:00:00\",\"2018-12-31T00:00:00\",\"2019-03-31T00:00:00\",\"2019-06-30T00:00:00\",\"2019-09-30T00:00:00\",\"2019-12-31T00:00:00\",\"2020-03-31T00:00:00\",\"2020-06-30T00:00:00\",\"2020-09-30T00:00:00\",\"2020-12-31T00:00:00\",\"2021-03-31T00:00:00\",\"2021-06-30T00:00:00\",\"2021-09-30T00:00:00\",\"2021-12-31T00:00:00\",\"2022-03-31T00:00:00\",\"2022-06-30T00:00:00\",\"2022-09-30T00:00:00\",\"2022-12-31T00:00:00\",\"2023-03-31T00:00:00\",\"2023-06-30T00:00:00\",\"2023-09-30T00:00:00\"],\"y\":[13333.0,14034.0,12668.0,11375.0,13976.0,15452.0,13538.0,11438.0,13720.0,14625.0,14133.0,13041.0,16758.0,19113.0,18618.0,14514.0,17989.0,20242.0,18304.0,15705.0,20661.0,24018.0,21510.0,18718.0,26114.0,30246.0,27792.0,22839.0,27903.0,28150.0,27300.0,27251.0,35868.0,40966.0,39048.0,37981.0,48562.0,54511.0,53795.0,49373.0,57169.0,65679.0,66818.0,57008.0,65544.0,68362.0,56069.0,47879.0,58782.0,66857.0,67004.0,59554.0,70739.0,76681.0,75585.0,67480.0,76400.0,79228.0,69775.0,62901.0,64095.0,55573.0,41731.0,29976.0,30684.0,36666.0,36511.0,27766.0,31943.0,35202.0,30715.0,26898.0,29993.0,35805.0,33757.0,30449.0,31328.0,33835.0,33679.0,30202.0,37732.0,44980.0,47053.0,42268.0,46553.0,50129.0,45932.0,39547.0,47077.0,56113.0,56700.0,56045.0,52613.0,59615.0,57864.0,54770.0,57485.0,63305.0,62433.0,55737.0,59885.0,64968.0,64747.0,55107.0,59051.0,65474.0,65494.0,58426.0,39566.0,56207.0,69441.0,74311.0,79082.0,65044.0,62843.0,67566.0,69197.0,76942.0,74230.0,54359.0,47843.0,57146.0],\"type\":\"scatter\",\"uid\":\"9b8e589f-6ed4-4b20-b705-5f9409aced1e\",\"xaxis\":\"x\",\"yaxis\":\"y\"},{\"histnorm\":\"probability density\",\"name\":\"Histogram\",\"nbinsy\":10,\"orientation\":\"h\",\"y\":[13333.0,14034.0,12668.0,11375.0,13976.0,15452.0,13538.0,11438.0,13720.0,14625.0,14133.0,13041.0,16758.0,19113.0,18618.0,14514.0,17989.0,20242.0,18304.0,15705.0,20661.0,24018.0,21510.0,18718.0,26114.0,30246.0,27792.0,22839.0,27903.0,28150.0,27300.0,27251.0,35868.0,40966.0,39048.0,37981.0,48562.0,54511.0,53795.0,49373.0,57169.0,65679.0,66818.0,57008.0,65544.0,68362.0,56069.0,47879.0,58782.0,66857.0,67004.0,59554.0,70739.0,76681.0,75585.0,67480.0,76400.0,79228.0,69775.0,62901.0,64095.0,55573.0,41731.0,29976.0,30684.0,36666.0,36511.0,27766.0,31943.0,35202.0,30715.0,26898.0,29993.0,35805.0,33757.0,30449.0,31328.0,33835.0,33679.0,30202.0,37732.0,44980.0,47053.0,42268.0,46553.0,50129.0,45932.0,39547.0,47077.0,56113.0,56700.0,56045.0,52613.0,59615.0,57864.0,54770.0,57485.0,63305.0,62433.0,55737.0,59885.0,64968.0,64747.0,55107.0,59051.0,65474.0,65494.0,58426.0,39566.0,56207.0,69441.0,74311.0,79082.0,65044.0,62843.0,67566.0,69197.0,76942.0,74230.0,54359.0,47843.0,57146.0],\"type\":\"histogram\",\"uid\":\"dd727508-563a-42d0-9a57-ad9b626a6e1e\",\"xaxis\":\"x2\",\"yaxis\":\"y2\"},{\"line\":{\"color\":\"black\"},\"mode\":\"lines\",\"name\":\"KDE\",\"x\":[8.817607828808626e-06,9.805058875773236e-06,1.0685338501495058e-05,1.1439295693515836e-05,1.2062551903800502e-05,1.2564355991474953e-05,1.2963894198544472e-05,1.3284910916957299e-05,1.3549895275864189e-05,1.3775165733486838e-05,1.3967922657356947e-05,1.4125818732227395e-05,1.4238970959131883e-05,1.4293778700900599e-05,1.427755930615519e-05,1.4182933790296346e-05,1.4011073037316502e-05,1.3773265068787209e-05,1.349066880023726e-05,1.3192470192543358e-05,1.2912882634813764e-05,1.2687516279414826e-05,1.254960785485437e-05,1.2526506166415282e-05,1.2636703953070914e-05,1.2887630410013695e-05,1.3274377522058552e-05,1.3779506453180224e-05,1.437403193799216e-05,1.5019583008967683e-05,1.5671582946132737e-05,1.6283110215830406e-05,1.680895261290718e-05,1.7209309566484033e-05,1.7452667132635113e-05,1.7517554188560153e-05,1.739312820140025e-05,1.7078754056740536e-05,1.6582863567367956e-05,1.5921394475121983e-05,1.5116035424939751e-05,1.419240880111512e-05,1.3178264483863582e-05,1.2101758361970995e-05,1.0989929822252232e-05,9.867524506085405e-06,8.756287780017205e-06,7.674767371817555e-06,6.638537672492619e-06,5.660646842006559e-06],\"y\":[11375.0,12759.755102040817,14144.510204081633,15529.265306122448,16914.020408163266,18298.775510204083,19683.530612244896,21068.285714285714,22453.04081632653,23837.79591836735,25222.551020408166,26607.30612244898,27992.061224489797,29376.816326530614,30761.571428571428,32146.326530612245,33531.08163265306,34915.836734693876,36300.5918367347,37685.34693877551,39070.10204081633,40454.857142857145,41839.61224489796,43224.36734693877,44609.12244897959,45993.87755102041,47378.63265306123,48763.38775510204,50148.142857142855,51532.897959183676,52917.65306122449,54302.40816326531,55687.163265306124,57071.91836734694,58456.67346938776,59841.42857142857,61226.18367346939,62610.93877551021,63995.69387755102,65380.44897959184,66765.20408163266,68149.95918367346,69534.71428571429,70919.4693877551,72304.22448979592,73688.97959183675,75073.73469387754,76458.48979591837,77843.24489795919,79228.0],\"type\":\"scatter\",\"uid\":\"af3107ca-57e6-4e7e-b1f6-d85d563ed756\",\"xaxis\":\"x2\",\"yaxis\":\"y2\"}],                        {\"annotations\":[{\"font\":{\"size\":16},\"showarrow\":false,\"text\":\"Scatter\",\"x\":0.225,\"xanchor\":\"center\",\"xref\":\"paper\",\"y\":1.0,\"yanchor\":\"bottom\",\"yref\":\"paper\"},{\"font\":{\"size\":16},\"showarrow\":false,\"text\":\"Histogram & KDE\",\"x\":0.775,\"xanchor\":\"center\",\"xref\":\"paper\",\"y\":1.0,\"yanchor\":\"bottom\",\"yref\":\"paper\"}],\"template\":{\"data\":{\"barpolar\":[{\"marker\":{\"line\":{\"color\":\"white\",\"width\":0.5},\"pattern\":{\"fillmode\":\"overlay\",\"size\":10,\"solidity\":0.2}},\"type\":\"barpolar\"}],\"bar\":[{\"error_x\":{\"color\":\"rgb(36,36,36)\"},\"error_y\":{\"color\":\"rgb(36,36,36)\"},\"marker\":{\"line\":{\"color\":\"white\",\"width\":0.5},\"pattern\":{\"fillmode\":\"overlay\",\"size\":10,\"solidity\":0.2}},\"type\":\"bar\"}],\"carpet\":[{\"aaxis\":{\"endlinecolor\":\"rgb(36,36,36)\",\"gridcolor\":\"white\",\"linecolor\":\"white\",\"minorgridcolor\":\"white\",\"startlinecolor\":\"rgb(36,36,36)\"},\"baxis\":{\"endlinecolor\":\"rgb(36,36,36)\",\"gridcolor\":\"white\",\"linecolor\":\"white\",\"minorgridcolor\":\"white\",\"startlinecolor\":\"rgb(36,36,36)\"},\"type\":\"carpet\"}],\"choropleth\":[{\"colorbar\":{\"outlinewidth\":1,\"tickcolor\":\"rgb(36,36,36)\",\"ticks\":\"outside\"},\"type\":\"choropleth\"}],\"contourcarpet\":[{\"colorbar\":{\"outlinewidth\":1,\"tickcolor\":\"rgb(36,36,36)\",\"ticks\":\"outside\"},\"type\":\"contourcarpet\"}],\"contour\":[{\"colorbar\":{\"outlinewidth\":1,\"tickcolor\":\"rgb(36,36,36)\",\"ticks\":\"outside\"},\"colorscale\":[[0.0,\"#440154\"],[0.1111111111111111,\"#482878\"],[0.2222222222222222,\"#3e4989\"],[0.3333333333333333,\"#31688e\"],[0.4444444444444444,\"#26828e\"],[0.5555555555555556,\"#1f9e89\"],[0.6666666666666666,\"#35b779\"],[0.7777777777777778,\"#6ece58\"],[0.8888888888888888,\"#b5de2b\"],[1.0,\"#fde725\"]],\"type\":\"contour\"}],\"heatmapgl\":[{\"colorbar\":{\"outlinewidth\":1,\"tickcolor\":\"rgb(36,36,36)\",\"ticks\":\"outside\"},\"colorscale\":[[0.0,\"#440154\"],[0.1111111111111111,\"#482878\"],[0.2222222222222222,\"#3e4989\"],[0.3333333333333333,\"#31688e\"],[0.4444444444444444,\"#26828e\"],[0.5555555555555556,\"#1f9e89\"],[0.6666666666666666,\"#35b779\"],[0.7777777777777778,\"#6ece58\"],[0.8888888888888888,\"#b5de2b\"],[1.0,\"#fde725\"]],\"type\":\"heatmapgl\"}],\"heatmap\":[{\"colorbar\":{\"outlinewidth\":1,\"tickcolor\":\"rgb(36,36,36)\",\"ticks\":\"outside\"},\"colorscale\":[[0.0,\"#440154\"],[0.1111111111111111,\"#482878\"],[0.2222222222222222,\"#3e4989\"],[0.3333333333333333,\"#31688e\"],[0.4444444444444444,\"#26828e\"],[0.5555555555555556,\"#1f9e89\"],[0.6666666666666666,\"#35b779\"],[0.7777777777777778,\"#6ece58\"],[0.8888888888888888,\"#b5de2b\"],[1.0,\"#fde725\"]],\"type\":\"heatmap\"}],\"histogram2dcontour\":[{\"colorbar\":{\"outlinewidth\":1,\"tickcolor\":\"rgb(36,36,36)\",\"ticks\":\"outside\"},\"colorscale\":[[0.0,\"#440154\"],[0.1111111111111111,\"#482878\"],[0.2222222222222222,\"#3e4989\"],[0.3333333333333333,\"#31688e\"],[0.4444444444444444,\"#26828e\"],[0.5555555555555556,\"#1f9e89\"],[0.6666666666666666,\"#35b779\"],[0.7777777777777778,\"#6ece58\"],[0.8888888888888888,\"#b5de2b\"],[1.0,\"#fde725\"]],\"type\":\"histogram2dcontour\"}],\"histogram2d\":[{\"colorbar\":{\"outlinewidth\":1,\"tickcolor\":\"rgb(36,36,36)\",\"ticks\":\"outside\"},\"colorscale\":[[0.0,\"#440154\"],[0.1111111111111111,\"#482878\"],[0.2222222222222222,\"#3e4989\"],[0.3333333333333333,\"#31688e\"],[0.4444444444444444,\"#26828e\"],[0.5555555555555556,\"#1f9e89\"],[0.6666666666666666,\"#35b779\"],[0.7777777777777778,\"#6ece58\"],[0.8888888888888888,\"#b5de2b\"],[1.0,\"#fde725\"]],\"type\":\"histogram2d\"}],\"histogram\":[{\"marker\":{\"line\":{\"color\":\"white\",\"width\":0.6}},\"type\":\"histogram\"}],\"mesh3d\":[{\"colorbar\":{\"outlinewidth\":1,\"tickcolor\":\"rgb(36,36,36)\",\"ticks\":\"outside\"},\"type\":\"mesh3d\"}],\"parcoords\":[{\"line\":{\"colorbar\":{\"outlinewidth\":1,\"tickcolor\":\"rgb(36,36,36)\",\"ticks\":\"outside\"}},\"type\":\"parcoords\"}],\"pie\":[{\"automargin\":true,\"type\":\"pie\"}],\"scatter3d\":[{\"line\":{\"colorbar\":{\"outlinewidth\":1,\"tickcolor\":\"rgb(36,36,36)\",\"ticks\":\"outside\"}},\"marker\":{\"colorbar\":{\"outlinewidth\":1,\"tickcolor\":\"rgb(36,36,36)\",\"ticks\":\"outside\"}},\"type\":\"scatter3d\"}],\"scattercarpet\":[{\"marker\":{\"colorbar\":{\"outlinewidth\":1,\"tickcolor\":\"rgb(36,36,36)\",\"ticks\":\"outside\"}},\"type\":\"scattercarpet\"}],\"scattergeo\":[{\"marker\":{\"colorbar\":{\"outlinewidth\":1,\"tickcolor\":\"rgb(36,36,36)\",\"ticks\":\"outside\"}},\"type\":\"scattergeo\"}],\"scattergl\":[{\"marker\":{\"colorbar\":{\"outlinewidth\":1,\"tickcolor\":\"rgb(36,36,36)\",\"ticks\":\"outside\"}},\"type\":\"scattergl\"}],\"scattermapbox\":[{\"marker\":{\"colorbar\":{\"outlinewidth\":1,\"tickcolor\":\"rgb(36,36,36)\",\"ticks\":\"outside\"}},\"type\":\"scattermapbox\"}],\"scatterpolargl\":[{\"marker\":{\"colorbar\":{\"outlinewidth\":1,\"tickcolor\":\"rgb(36,36,36)\",\"ticks\":\"outside\"}},\"type\":\"scatterpolargl\"}],\"scatterpolar\":[{\"marker\":{\"colorbar\":{\"outlinewidth\":1,\"tickcolor\":\"rgb(36,36,36)\",\"ticks\":\"outside\"}},\"type\":\"scatterpolar\"}],\"scatter\":[{\"fillpattern\":{\"fillmode\":\"overlay\",\"size\":10,\"solidity\":0.2},\"type\":\"scatter\"}],\"scatterternary\":[{\"marker\":{\"colorbar\":{\"outlinewidth\":1,\"tickcolor\":\"rgb(36,36,36)\",\"ticks\":\"outside\"}},\"type\":\"scatterternary\"}],\"surface\":[{\"colorbar\":{\"outlinewidth\":1,\"tickcolor\":\"rgb(36,36,36)\",\"ticks\":\"outside\"},\"colorscale\":[[0.0,\"#440154\"],[0.1111111111111111,\"#482878\"],[0.2222222222222222,\"#3e4989\"],[0.3333333333333333,\"#31688e\"],[0.4444444444444444,\"#26828e\"],[0.5555555555555556,\"#1f9e89\"],[0.6666666666666666,\"#35b779\"],[0.7777777777777778,\"#6ece58\"],[0.8888888888888888,\"#b5de2b\"],[1.0,\"#fde725\"]],\"type\":\"surface\"}],\"table\":[{\"cells\":{\"fill\":{\"color\":\"rgb(237,237,237)\"},\"line\":{\"color\":\"white\"}},\"header\":{\"fill\":{\"color\":\"rgb(217,217,217)\"},\"line\":{\"color\":\"white\"}},\"type\":\"table\"}]},\"layout\":{\"annotationdefaults\":{\"arrowhead\":0,\"arrowwidth\":1},\"autotypenumbers\":\"strict\",\"coloraxis\":{\"colorbar\":{\"outlinewidth\":1,\"tickcolor\":\"rgb(36,36,36)\",\"ticks\":\"outside\"}},\"colorscale\":{\"diverging\":[[0.0,\"rgb(103,0,31)\"],[0.1,\"rgb(178,24,43)\"],[0.2,\"rgb(214,96,77)\"],[0.3,\"rgb(244,165,130)\"],[0.4,\"rgb(253,219,199)\"],[0.5,\"rgb(247,247,247)\"],[0.6,\"rgb(209,229,240)\"],[0.7,\"rgb(146,197,222)\"],[0.8,\"rgb(67,147,195)\"],[0.9,\"rgb(33,102,172)\"],[1.0,\"rgb(5,48,97)\"]],\"sequential\":[[0.0,\"#440154\"],[0.1111111111111111,\"#482878\"],[0.2222222222222222,\"#3e4989\"],[0.3333333333333333,\"#31688e\"],[0.4444444444444444,\"#26828e\"],[0.5555555555555556,\"#1f9e89\"],[0.6666666666666666,\"#35b779\"],[0.7777777777777778,\"#6ece58\"],[0.8888888888888888,\"#b5de2b\"],[1.0,\"#fde725\"]],\"sequentialminus\":[[0.0,\"#440154\"],[0.1111111111111111,\"#482878\"],[0.2222222222222222,\"#3e4989\"],[0.3333333333333333,\"#31688e\"],[0.4444444444444444,\"#26828e\"],[0.5555555555555556,\"#1f9e89\"],[0.6666666666666666,\"#35b779\"],[0.7777777777777778,\"#6ece58\"],[0.8888888888888888,\"#b5de2b\"],[1.0,\"#fde725\"]]},\"colorway\":[\"#1F77B4\",\"#FF7F0E\",\"#2CA02C\",\"#D62728\",\"#9467BD\",\"#8C564B\",\"#E377C2\",\"#7F7F7F\",\"#BCBD22\",\"#17BECF\"],\"font\":{\"color\":\"rgb(36,36,36)\"},\"geo\":{\"bgcolor\":\"white\",\"lakecolor\":\"white\",\"landcolor\":\"white\",\"showlakes\":true,\"showland\":true,\"subunitcolor\":\"white\"},\"hoverlabel\":{\"align\":\"left\"},\"hovermode\":\"closest\",\"mapbox\":{\"style\":\"light\"},\"paper_bgcolor\":\"white\",\"plot_bgcolor\":\"white\",\"polar\":{\"angularaxis\":{\"gridcolor\":\"rgb(232,232,232)\",\"linecolor\":\"rgb(36,36,36)\",\"showgrid\":false,\"showline\":true,\"ticks\":\"outside\"},\"bgcolor\":\"white\",\"radialaxis\":{\"gridcolor\":\"rgb(232,232,232)\",\"linecolor\":\"rgb(36,36,36)\",\"showgrid\":false,\"showline\":true,\"ticks\":\"outside\"}},\"scene\":{\"xaxis\":{\"backgroundcolor\":\"white\",\"gridcolor\":\"rgb(232,232,232)\",\"gridwidth\":2,\"linecolor\":\"rgb(36,36,36)\",\"showbackground\":true,\"showgrid\":false,\"showline\":true,\"ticks\":\"outside\",\"zeroline\":false,\"zerolinecolor\":\"rgb(36,36,36)\"},\"yaxis\":{\"backgroundcolor\":\"white\",\"gridcolor\":\"rgb(232,232,232)\",\"gridwidth\":2,\"linecolor\":\"rgb(36,36,36)\",\"showbackground\":true,\"showgrid\":false,\"showline\":true,\"ticks\":\"outside\",\"zeroline\":false,\"zerolinecolor\":\"rgb(36,36,36)\"},\"zaxis\":{\"backgroundcolor\":\"white\",\"gridcolor\":\"rgb(232,232,232)\",\"gridwidth\":2,\"linecolor\":\"rgb(36,36,36)\",\"showbackground\":true,\"showgrid\":false,\"showline\":true,\"ticks\":\"outside\",\"zeroline\":false,\"zerolinecolor\":\"rgb(36,36,36)\"}},\"shapedefaults\":{\"fillcolor\":\"black\",\"line\":{\"width\":0},\"opacity\":0.3},\"ternary\":{\"aaxis\":{\"gridcolor\":\"rgb(232,232,232)\",\"linecolor\":\"rgb(36,36,36)\",\"showgrid\":false,\"showline\":true,\"ticks\":\"outside\"},\"baxis\":{\"gridcolor\":\"rgb(232,232,232)\",\"linecolor\":\"rgb(36,36,36)\",\"showgrid\":false,\"showline\":true,\"ticks\":\"outside\"},\"bgcolor\":\"white\",\"caxis\":{\"gridcolor\":\"rgb(232,232,232)\",\"linecolor\":\"rgb(36,36,36)\",\"showgrid\":false,\"showline\":true,\"ticks\":\"outside\"}},\"title\":{\"x\":0.05},\"xaxis\":{\"automargin\":true,\"gridcolor\":\"rgb(232,232,232)\",\"linecolor\":\"rgb(36,36,36)\",\"showgrid\":false,\"showline\":true,\"ticks\":\"outside\",\"title\":{\"standoff\":15},\"zeroline\":false,\"zerolinecolor\":\"rgb(36,36,36)\"},\"yaxis\":{\"automargin\":true,\"gridcolor\":\"rgb(232,232,232)\",\"linecolor\":\"rgb(36,36,36)\",\"showgrid\":false,\"showline\":true,\"ticks\":\"outside\",\"title\":{\"standoff\":15},\"zeroline\":false,\"zerolinecolor\":\"rgb(36,36,36)\"}}},\"xaxis\":{\"anchor\":\"y\",\"domain\":[0.0,0.45]},\"yaxis\":{\"anchor\":\"x\",\"domain\":[0.0,1.0]},\"xaxis2\":{\"anchor\":\"y2\",\"domain\":[0.55,1.0]},\"yaxis2\":{\"anchor\":\"x2\",\"domain\":[0.0,1.0]},\"height\":500,\"width\":1000},                        {\"responsive\": true}                    ).then(function(){\n                            \nvar gd = document.getElementById('04e5a059-2f31-416d-a579-9651f0c66cfa');\nvar x = new MutationObserver(function (mutations, observer) {{\n        var display = window.getComputedStyle(gd).display;\n        if (!display || display === 'none') {{\n            console.log([gd, 'removed!']);\n            Plotly.purge(gd);\n            observer.disconnect();\n        }}\n}});\n\n// Listen for the removal of the full notebook cells\nvar notebookContainer = gd.closest('#notebook-container');\nif (notebookContainer) {{\n    x.observe(notebookContainer, {childList: true});\n}}\n\n// Listen for the clearing of the current output cell\nvar outputEl = gd.closest('.output');\nif (outputEl) {{\n    x.observe(outputEl, {childList: true});\n}}\n\n                        })                };                });            </script>        </div>"
         },
         "metadata": {},
         "output_type": "display_data"
        }
       ]
      }
     },
     "ca3ecbf333be49aebb298d716b0c4dc4": {
      "model_module": "@jupyter-widgets/controls",
      "model_module_version": "1.5.0",
      "model_name": "VBoxModel",
      "state": {
       "_dom_classes": [
        "widget-interact"
       ],
       "children": [
        "IPY_MODEL_50b490eecc794a14b5d3b395f8490bae",
        "IPY_MODEL_865c5e38ad1e47d59105f45cbf7a2d63",
        "IPY_MODEL_39f1be8c6927494cad10e38da8c5a303"
       ],
       "layout": "IPY_MODEL_8ba44ffcc1494b1aa64b5345cf3182c8"
      }
     },
     "ce8807f1533643a6ba189ff03d5adae9": {
      "model_module": "@jupyter-widgets/controls",
      "model_module_version": "1.5.0",
      "model_name": "DropdownModel",
      "state": {
       "_options_labels": [
        "IUQABEDR",
        "LPQB3VB",
        "LPQVTVQ",
        "LPMB7GT",
        "RPQTFHD",
        "LPMB8GO",
        "LPQB7GT",
        "LPQB8GO",
        "Sec_Pct",
        "Write_Pct"
       ],
       "description": "Series:",
       "index": 1,
       "layout": "IPY_MODEL_fafec789da7c4d63a525052bf5b388e5",
       "style": "IPY_MODEL_6e21654dd2fa46349b8c3e3071072f4f"
      }
     },
     "d6696c1ff8c24409b85b926a4303eab6": {
      "model_module": "@jupyter-widgets/controls",
      "model_module_version": "1.5.0",
      "model_name": "SliderStyleModel",
      "state": {
       "description_width": ""
      }
     },
     "edfe5136cece43d09b78923084ee6c82": {
      "model_module": "@jupyter-widgets/controls",
      "model_module_version": "1.5.0",
      "model_name": "VBoxModel",
      "state": {
       "_dom_classes": [
        "widget-interact"
       ],
       "children": [
        "IPY_MODEL_97072e876ca0430fa87f19f91c18b543",
        "IPY_MODEL_ae3d79879d49466a9ab83c29a8d275fd",
        "IPY_MODEL_5b8bef5d8b49464db55c76810467e28a"
       ],
       "layout": "IPY_MODEL_64a96c5b31e14f4289d731f556161305"
      }
     },
     "ee104c7acfc742619340ebf33ae9af49": {
      "buffers": [
       {
        "data": "Tz7Iyup94j5mjtYHDZDkPk9Su72laOY+zmUd1Gz95z65L4aCCEzpPra2QvBvWeo+vKszDfAv6z6shN5ASNzrPhmVJm2Lauw+p5jAXHzj7D4UoBWs+ErtPmKGVb69n+0+D19jRH3c7T4+L1786fntPt3rJc808e0+gv/Jk2e+7T681hs3I2LtPifuDiN34uw+YXTLZr9K7D4jeAZMp6rrPjnaXBONFOs+nXWo9Y6b6j42iVX4hFHqPuik7uUdReo+nnvcXUeA6j7kc7Bv/gbrPhzW+42g1us+msg/8tDl7D6WgR/o/yTuPunkNMWTf+8+XILM+s5u8D5QckzQ9hLxPiP6k20eoPE+x+uWv5YL8j4kKCsn6kzyPr8KVChVXvI+KaI2q+488j6X48UKi+jxPu67BrVtY/E+x2Cx5d2x8D7gJ+YWXLPvPjRiGNB9w+0+89UV4Qaj6z4vACMBFWHpPmelGHQsDOc+11nRPZax5D74d14H/1ziPt2+5/5bGOA+tH0wVxPY2z7MWIHBEr7XPg==",
        "encoding": "base64",
        "path": [
         "_data",
         2,
         "x",
         "value"
        ]
       },
       {
        "data": "AAAAAIA3xkA6BS+n4OvIQHMKXk5BoMtArA+N9aFUzkBzCl5OgYTQQBCN9aGx3tFArA+N9eE400BJkiRJEpPUQOYUvJxC7dVAg5dT8HJH10AgGutDo6HYQLycgpfT+9lAWR8a6wNW20D2obE+NLDcQJIkSZJkCt5AL6fg5ZRk30DmFLycYl/gQDTWh8Z6DOFAg5dT8JK54UDRWB8aq2biQCAa60PDE+NAbtu2bdvA40C8nIKX823kQApeTsELG+VAWR8a6yPI5UCn4OUUPHXmQPahsT5UIudARGN9aGzP50CSJEmShHzoQOHlFLycKelAL6fg5bTW6UB+aKwPzYPqQMwpeDnlMOtAGutDY/3d60BprA+NFYvsQLdt27YtOO1ABi+n4EXl7UBU8HIKXpLuQKKxPjR2P+9A8XIKXo7s70AgGutD00zwQMb60Fhfo/BAbtu2bev58EAVvJyCd1DxQLycgpcDp/FAZH1orI/98UAKXk7BG1TyQLI+NNanqvJAWR8a6zMB80AAAAAAwFfzQA==",
        "encoding": "base64",
        "path": [
         "_data",
         2,
         "y",
         "value"
        ]
       }
      ],
      "model_module": "jupyterlab-plotly",
      "model_module_version": "^5.9.0",
      "model_name": "FigureModel",
      "state": {
       "_config": {
        "plotlyServerURL": "https://plot.ly"
       },
       "_data": [
        {
         "mode": "markers",
         "name": "Scatter",
         "type": "scatter",
         "uid": "9b8e589f-6ed4-4b20-b705-5f9409aced1e",
         "x": [
          "1993-06-30T00:00:00+01:00",
          "1993-09-30T00:00:00+01:00",
          "1993-12-31T00:00:00Z",
          "1994-03-31T00:00:00+01:00",
          "1994-06-30T00:00:00+01:00",
          "1994-09-30T00:00:00+01:00",
          "1994-12-31T00:00:00Z",
          "1995-03-31T00:00:00+01:00",
          "1995-06-30T00:00:00+01:00",
          "1995-09-30T00:00:00+01:00",
          "1995-12-31T00:00:00Z",
          "1996-03-31T00:00:00Z",
          "1996-06-30T00:00:00+01:00",
          "1996-09-30T00:00:00+01:00",
          "1996-12-31T00:00:00Z",
          "1997-03-31T00:00:00+01:00",
          "1997-06-30T00:00:00+01:00",
          "1997-09-30T00:00:00+01:00",
          "1997-12-31T00:00:00Z",
          "1998-03-31T00:00:00+01:00",
          "1998-06-30T00:00:00+01:00",
          "1998-09-30T00:00:00+01:00",
          "1998-12-31T00:00:00Z",
          "1999-03-31T00:00:00+01:00",
          "1999-06-30T00:00:00+01:00",
          "1999-09-30T00:00:00+01:00",
          "1999-12-31T00:00:00Z",
          "2000-03-31T00:00:00+01:00",
          "2000-06-30T00:00:00+01:00",
          "2000-09-30T00:00:00+01:00",
          "2000-12-31T00:00:00Z",
          "2001-03-31T00:00:00+01:00",
          "2001-06-30T00:00:00+01:00",
          "2001-09-30T00:00:00+01:00",
          "2001-12-31T00:00:00Z",
          "2002-03-31T00:00:00Z",
          "2002-06-30T00:00:00+01:00",
          "2002-09-30T00:00:00+01:00",
          "2002-12-31T00:00:00Z",
          "2003-03-31T00:00:00+01:00",
          "2003-06-30T00:00:00+01:00",
          "2003-09-30T00:00:00+01:00",
          "2003-12-31T00:00:00Z",
          "2004-03-31T00:00:00+01:00",
          "2004-06-30T00:00:00+01:00",
          "2004-09-30T00:00:00+01:00",
          "2004-12-31T00:00:00Z",
          "2005-03-31T00:00:00+01:00",
          "2005-06-30T00:00:00+01:00",
          "2005-09-30T00:00:00+01:00",
          "2005-12-31T00:00:00Z",
          "2006-03-31T00:00:00+01:00",
          "2006-06-30T00:00:00+01:00",
          "2006-09-30T00:00:00+01:00",
          "2006-12-31T00:00:00Z",
          "2007-03-31T00:00:00+01:00",
          "2007-06-30T00:00:00+01:00",
          "2007-09-30T00:00:00+01:00",
          "2007-12-31T00:00:00Z",
          "2008-03-31T00:00:00+01:00",
          "2008-06-30T00:00:00+01:00",
          "2008-09-30T00:00:00+01:00",
          "2008-12-31T00:00:00Z",
          "2009-03-31T00:00:00+01:00",
          "2009-06-30T00:00:00+01:00",
          "2009-09-30T00:00:00+01:00",
          "2009-12-31T00:00:00Z",
          "2010-03-31T00:00:00+01:00",
          "2010-06-30T00:00:00+01:00",
          "2010-09-30T00:00:00+01:00",
          "2010-12-31T00:00:00Z",
          "2011-03-31T00:00:00+01:00",
          "2011-06-30T00:00:00+01:00",
          "2011-09-30T00:00:00+01:00",
          "2011-12-31T00:00:00Z",
          "2012-03-31T00:00:00+01:00",
          "2012-06-30T00:00:00+01:00",
          "2012-09-30T00:00:00+01:00",
          "2012-12-31T00:00:00Z",
          "2013-03-31T00:00:00Z",
          "2013-06-30T00:00:00+01:00",
          "2013-09-30T00:00:00+01:00",
          "2013-12-31T00:00:00Z",
          "2014-03-31T00:00:00+01:00",
          "2014-06-30T00:00:00+01:00",
          "2014-09-30T00:00:00+01:00",
          "2014-12-31T00:00:00Z",
          "2015-03-31T00:00:00+01:00",
          "2015-06-30T00:00:00+01:00",
          "2015-09-30T00:00:00+01:00",
          "2015-12-31T00:00:00Z",
          "2016-03-31T00:00:00+01:00",
          "2016-06-30T00:00:00+01:00",
          "2016-09-30T00:00:00+01:00",
          "2016-12-31T00:00:00Z",
          "2017-03-31T00:00:00+01:00",
          "2017-06-30T00:00:00+01:00",
          "2017-09-30T00:00:00+01:00",
          "2017-12-31T00:00:00Z",
          "2018-03-31T00:00:00+01:00",
          "2018-06-30T00:00:00+01:00",
          "2018-09-30T00:00:00+01:00",
          "2018-12-31T00:00:00Z",
          "2019-03-31T00:00:00Z",
          "2019-06-30T00:00:00+01:00",
          "2019-09-30T00:00:00+01:00",
          "2019-12-31T00:00:00Z",
          "2020-03-31T00:00:00+01:00",
          "2020-06-30T00:00:00+01:00",
          "2020-09-30T00:00:00+01:00",
          "2020-12-31T00:00:00Z",
          "2021-03-31T00:00:00+01:00",
          "2021-06-30T00:00:00+01:00",
          "2021-09-30T00:00:00+01:00",
          "2021-12-31T00:00:00Z",
          "2022-03-31T00:00:00+01:00",
          "2022-06-30T00:00:00+01:00",
          "2022-09-30T00:00:00+01:00",
          "2022-12-31T00:00:00Z",
          "2023-03-31T00:00:00+01:00",
          "2023-06-30T00:00:00+01:00",
          "2023-09-30T00:00:00+01:00"
         ],
         "xaxis": "x",
         "y": [
          13333,
          14034,
          12668,
          11375,
          13976,
          15452,
          13538,
          11438,
          13720,
          14625,
          14133,
          13041,
          16758,
          19113,
          18618,
          14514,
          17989,
          20242,
          18304,
          15705,
          20661,
          24018,
          21510,
          18718,
          26114,
          30246,
          27792,
          22839,
          27903,
          28150,
          27300,
          27251,
          35868,
          40966,
          39048,
          37981,
          48562,
          54511,
          53795,
          49373,
          57169,
          65679,
          66818,
          57008,
          65544,
          68362,
          56069,
          47879,
          58782,
          66857,
          67004,
          59554,
          70739,
          76681,
          75585,
          67480,
          76400,
          79228,
          69775,
          62901,
          64095,
          55573,
          41731,
          29976,
          30684,
          36666,
          36511,
          27766,
          31943,
          35202,
          30715,
          26898,
          29993,
          35805,
          33757,
          30449,
          31328,
          33835,
          33679,
          30202,
          37732,
          44980,
          47053,
          42268,
          46553,
          50129,
          45932,
          39547,
          47077,
          56113,
          56700,
          56045,
          52613,
          59615,
          57864,
          54770,
          57485,
          63305,
          62433,
          55737,
          59885,
          64968,
          64747,
          55107,
          59051,
          65474,
          65494,
          58426,
          39566,
          56207,
          69441,
          74311,
          79082,
          65044,
          62843,
          67566,
          69197,
          76942,
          74230,
          54359,
          47843,
          57146
         ],
         "yaxis": "y"
        },
        {
         "histnorm": "probability density",
         "name": "Histogram",
         "nbinsy": 10,
         "orientation": "h",
         "type": "histogram",
         "uid": "dd727508-563a-42d0-9a57-ad9b626a6e1e",
         "xaxis": "x2",
         "y": [
          13333,
          14034,
          12668,
          11375,
          13976,
          15452,
          13538,
          11438,
          13720,
          14625,
          14133,
          13041,
          16758,
          19113,
          18618,
          14514,
          17989,
          20242,
          18304,
          15705,
          20661,
          24018,
          21510,
          18718,
          26114,
          30246,
          27792,
          22839,
          27903,
          28150,
          27300,
          27251,
          35868,
          40966,
          39048,
          37981,
          48562,
          54511,
          53795,
          49373,
          57169,
          65679,
          66818,
          57008,
          65544,
          68362,
          56069,
          47879,
          58782,
          66857,
          67004,
          59554,
          70739,
          76681,
          75585,
          67480,
          76400,
          79228,
          69775,
          62901,
          64095,
          55573,
          41731,
          29976,
          30684,
          36666,
          36511,
          27766,
          31943,
          35202,
          30715,
          26898,
          29993,
          35805,
          33757,
          30449,
          31328,
          33835,
          33679,
          30202,
          37732,
          44980,
          47053,
          42268,
          46553,
          50129,
          45932,
          39547,
          47077,
          56113,
          56700,
          56045,
          52613,
          59615,
          57864,
          54770,
          57485,
          63305,
          62433,
          55737,
          59885,
          64968,
          64747,
          55107,
          59051,
          65474,
          65494,
          58426,
          39566,
          56207,
          69441,
          74311,
          79082,
          65044,
          62843,
          67566,
          69197,
          76942,
          74230,
          54359,
          47843,
          57146
         ],
         "yaxis": "y2"
        },
        {
         "line": {
          "color": "black"
         },
         "mode": "lines",
         "name": "KDE",
         "type": "scatter",
         "uid": "af3107ca-57e6-4e7e-b1f6-d85d563ed756",
         "x": {
          "dtype": "float64",
          "shape": [
           50
          ],
          "value": {}
         },
         "xaxis": "x2",
         "y": {
          "dtype": "float64",
          "shape": [
           50
          ],
          "value": {}
         },
         "yaxis": "y2"
        }
       ],
       "_js2py_layoutDelta": {},
       "_js2py_pointsCallback": {},
       "_js2py_relayout": {},
       "_js2py_restyle": {},
       "_js2py_traceDeltas": {},
       "_js2py_update": {},
       "_last_layout_edit_id": 87,
       "_last_trace_edit_id": 87,
       "_layout": {
        "annotations": [
         {
          "font": {
           "size": 16
          },
          "showarrow": false,
          "text": "Scatter",
          "x": 0.225,
          "xanchor": "center",
          "xref": "paper",
          "y": 1,
          "yanchor": "bottom",
          "yref": "paper"
         },
         {
          "font": {
           "size": 16
          },
          "showarrow": false,
          "text": "Histogram & KDE",
          "x": 0.775,
          "xanchor": "center",
          "xref": "paper",
          "y": 1,
          "yanchor": "bottom",
          "yref": "paper"
         }
        ],
        "height": 500,
        "template": {
         "data": {
          "bar": [
           {
            "error_x": {
             "color": "rgb(36,36,36)"
            },
            "error_y": {
             "color": "rgb(36,36,36)"
            },
            "marker": {
             "line": {
              "color": "white",
              "width": 0.5
             },
             "pattern": {
              "fillmode": "overlay",
              "size": 10,
              "solidity": 0.2
             }
            },
            "type": "bar"
           }
          ],
          "barpolar": [
           {
            "marker": {
             "line": {
              "color": "white",
              "width": 0.5
             },
             "pattern": {
              "fillmode": "overlay",
              "size": 10,
              "solidity": 0.2
             }
            },
            "type": "barpolar"
           }
          ],
          "carpet": [
           {
            "aaxis": {
             "endlinecolor": "rgb(36,36,36)",
             "gridcolor": "white",
             "linecolor": "white",
             "minorgridcolor": "white",
             "startlinecolor": "rgb(36,36,36)"
            },
            "baxis": {
             "endlinecolor": "rgb(36,36,36)",
             "gridcolor": "white",
             "linecolor": "white",
             "minorgridcolor": "white",
             "startlinecolor": "rgb(36,36,36)"
            },
            "type": "carpet"
           }
          ],
          "choropleth": [
           {
            "colorbar": {
             "outlinewidth": 1,
             "tickcolor": "rgb(36,36,36)",
             "ticks": "outside"
            },
            "type": "choropleth"
           }
          ],
          "contour": [
           {
            "colorbar": {
             "outlinewidth": 1,
             "tickcolor": "rgb(36,36,36)",
             "ticks": "outside"
            },
            "colorscale": [
             [
              0,
              "#440154"
             ],
             [
              0.1111111111111111,
              "#482878"
             ],
             [
              0.2222222222222222,
              "#3e4989"
             ],
             [
              0.3333333333333333,
              "#31688e"
             ],
             [
              0.4444444444444444,
              "#26828e"
             ],
             [
              0.5555555555555556,
              "#1f9e89"
             ],
             [
              0.6666666666666666,
              "#35b779"
             ],
             [
              0.7777777777777778,
              "#6ece58"
             ],
             [
              0.8888888888888888,
              "#b5de2b"
             ],
             [
              1,
              "#fde725"
             ]
            ],
            "type": "contour"
           }
          ],
          "contourcarpet": [
           {
            "colorbar": {
             "outlinewidth": 1,
             "tickcolor": "rgb(36,36,36)",
             "ticks": "outside"
            },
            "type": "contourcarpet"
           }
          ],
          "heatmap": [
           {
            "colorbar": {
             "outlinewidth": 1,
             "tickcolor": "rgb(36,36,36)",
             "ticks": "outside"
            },
            "colorscale": [
             [
              0,
              "#440154"
             ],
             [
              0.1111111111111111,
              "#482878"
             ],
             [
              0.2222222222222222,
              "#3e4989"
             ],
             [
              0.3333333333333333,
              "#31688e"
             ],
             [
              0.4444444444444444,
              "#26828e"
             ],
             [
              0.5555555555555556,
              "#1f9e89"
             ],
             [
              0.6666666666666666,
              "#35b779"
             ],
             [
              0.7777777777777778,
              "#6ece58"
             ],
             [
              0.8888888888888888,
              "#b5de2b"
             ],
             [
              1,
              "#fde725"
             ]
            ],
            "type": "heatmap"
           }
          ],
          "heatmapgl": [
           {
            "colorbar": {
             "outlinewidth": 1,
             "tickcolor": "rgb(36,36,36)",
             "ticks": "outside"
            },
            "colorscale": [
             [
              0,
              "#440154"
             ],
             [
              0.1111111111111111,
              "#482878"
             ],
             [
              0.2222222222222222,
              "#3e4989"
             ],
             [
              0.3333333333333333,
              "#31688e"
             ],
             [
              0.4444444444444444,
              "#26828e"
             ],
             [
              0.5555555555555556,
              "#1f9e89"
             ],
             [
              0.6666666666666666,
              "#35b779"
             ],
             [
              0.7777777777777778,
              "#6ece58"
             ],
             [
              0.8888888888888888,
              "#b5de2b"
             ],
             [
              1,
              "#fde725"
             ]
            ],
            "type": "heatmapgl"
           }
          ],
          "histogram": [
           {
            "marker": {
             "line": {
              "color": "white",
              "width": 0.6
             }
            },
            "type": "histogram"
           }
          ],
          "histogram2d": [
           {
            "colorbar": {
             "outlinewidth": 1,
             "tickcolor": "rgb(36,36,36)",
             "ticks": "outside"
            },
            "colorscale": [
             [
              0,
              "#440154"
             ],
             [
              0.1111111111111111,
              "#482878"
             ],
             [
              0.2222222222222222,
              "#3e4989"
             ],
             [
              0.3333333333333333,
              "#31688e"
             ],
             [
              0.4444444444444444,
              "#26828e"
             ],
             [
              0.5555555555555556,
              "#1f9e89"
             ],
             [
              0.6666666666666666,
              "#35b779"
             ],
             [
              0.7777777777777778,
              "#6ece58"
             ],
             [
              0.8888888888888888,
              "#b5de2b"
             ],
             [
              1,
              "#fde725"
             ]
            ],
            "type": "histogram2d"
           }
          ],
          "histogram2dcontour": [
           {
            "colorbar": {
             "outlinewidth": 1,
             "tickcolor": "rgb(36,36,36)",
             "ticks": "outside"
            },
            "colorscale": [
             [
              0,
              "#440154"
             ],
             [
              0.1111111111111111,
              "#482878"
             ],
             [
              0.2222222222222222,
              "#3e4989"
             ],
             [
              0.3333333333333333,
              "#31688e"
             ],
             [
              0.4444444444444444,
              "#26828e"
             ],
             [
              0.5555555555555556,
              "#1f9e89"
             ],
             [
              0.6666666666666666,
              "#35b779"
             ],
             [
              0.7777777777777778,
              "#6ece58"
             ],
             [
              0.8888888888888888,
              "#b5de2b"
             ],
             [
              1,
              "#fde725"
             ]
            ],
            "type": "histogram2dcontour"
           }
          ],
          "mesh3d": [
           {
            "colorbar": {
             "outlinewidth": 1,
             "tickcolor": "rgb(36,36,36)",
             "ticks": "outside"
            },
            "type": "mesh3d"
           }
          ],
          "parcoords": [
           {
            "line": {
             "colorbar": {
              "outlinewidth": 1,
              "tickcolor": "rgb(36,36,36)",
              "ticks": "outside"
             }
            },
            "type": "parcoords"
           }
          ],
          "pie": [
           {
            "automargin": true,
            "type": "pie"
           }
          ],
          "scatter": [
           {
            "fillpattern": {
             "fillmode": "overlay",
             "size": 10,
             "solidity": 0.2
            },
            "type": "scatter"
           }
          ],
          "scatter3d": [
           {
            "line": {
             "colorbar": {
              "outlinewidth": 1,
              "tickcolor": "rgb(36,36,36)",
              "ticks": "outside"
             }
            },
            "marker": {
             "colorbar": {
              "outlinewidth": 1,
              "tickcolor": "rgb(36,36,36)",
              "ticks": "outside"
             }
            },
            "type": "scatter3d"
           }
          ],
          "scattercarpet": [
           {
            "marker": {
             "colorbar": {
              "outlinewidth": 1,
              "tickcolor": "rgb(36,36,36)",
              "ticks": "outside"
             }
            },
            "type": "scattercarpet"
           }
          ],
          "scattergeo": [
           {
            "marker": {
             "colorbar": {
              "outlinewidth": 1,
              "tickcolor": "rgb(36,36,36)",
              "ticks": "outside"
             }
            },
            "type": "scattergeo"
           }
          ],
          "scattergl": [
           {
            "marker": {
             "colorbar": {
              "outlinewidth": 1,
              "tickcolor": "rgb(36,36,36)",
              "ticks": "outside"
             }
            },
            "type": "scattergl"
           }
          ],
          "scattermapbox": [
           {
            "marker": {
             "colorbar": {
              "outlinewidth": 1,
              "tickcolor": "rgb(36,36,36)",
              "ticks": "outside"
             }
            },
            "type": "scattermapbox"
           }
          ],
          "scatterpolar": [
           {
            "marker": {
             "colorbar": {
              "outlinewidth": 1,
              "tickcolor": "rgb(36,36,36)",
              "ticks": "outside"
             }
            },
            "type": "scatterpolar"
           }
          ],
          "scatterpolargl": [
           {
            "marker": {
             "colorbar": {
              "outlinewidth": 1,
              "tickcolor": "rgb(36,36,36)",
              "ticks": "outside"
             }
            },
            "type": "scatterpolargl"
           }
          ],
          "scatterternary": [
           {
            "marker": {
             "colorbar": {
              "outlinewidth": 1,
              "tickcolor": "rgb(36,36,36)",
              "ticks": "outside"
             }
            },
            "type": "scatterternary"
           }
          ],
          "surface": [
           {
            "colorbar": {
             "outlinewidth": 1,
             "tickcolor": "rgb(36,36,36)",
             "ticks": "outside"
            },
            "colorscale": [
             [
              0,
              "#440154"
             ],
             [
              0.1111111111111111,
              "#482878"
             ],
             [
              0.2222222222222222,
              "#3e4989"
             ],
             [
              0.3333333333333333,
              "#31688e"
             ],
             [
              0.4444444444444444,
              "#26828e"
             ],
             [
              0.5555555555555556,
              "#1f9e89"
             ],
             [
              0.6666666666666666,
              "#35b779"
             ],
             [
              0.7777777777777778,
              "#6ece58"
             ],
             [
              0.8888888888888888,
              "#b5de2b"
             ],
             [
              1,
              "#fde725"
             ]
            ],
            "type": "surface"
           }
          ],
          "table": [
           {
            "cells": {
             "fill": {
              "color": "rgb(237,237,237)"
             },
             "line": {
              "color": "white"
             }
            },
            "header": {
             "fill": {
              "color": "rgb(217,217,217)"
             },
             "line": {
              "color": "white"
             }
            },
            "type": "table"
           }
          ]
         },
         "layout": {
          "annotationdefaults": {
           "arrowhead": 0,
           "arrowwidth": 1
          },
          "autotypenumbers": "strict",
          "coloraxis": {
           "colorbar": {
            "outlinewidth": 1,
            "tickcolor": "rgb(36,36,36)",
            "ticks": "outside"
           }
          },
          "colorscale": {
           "diverging": [
            [
             0,
             "rgb(103,0,31)"
            ],
            [
             0.1,
             "rgb(178,24,43)"
            ],
            [
             0.2,
             "rgb(214,96,77)"
            ],
            [
             0.3,
             "rgb(244,165,130)"
            ],
            [
             0.4,
             "rgb(253,219,199)"
            ],
            [
             0.5,
             "rgb(247,247,247)"
            ],
            [
             0.6,
             "rgb(209,229,240)"
            ],
            [
             0.7,
             "rgb(146,197,222)"
            ],
            [
             0.8,
             "rgb(67,147,195)"
            ],
            [
             0.9,
             "rgb(33,102,172)"
            ],
            [
             1,
             "rgb(5,48,97)"
            ]
           ],
           "sequential": [
            [
             0,
             "#440154"
            ],
            [
             0.1111111111111111,
             "#482878"
            ],
            [
             0.2222222222222222,
             "#3e4989"
            ],
            [
             0.3333333333333333,
             "#31688e"
            ],
            [
             0.4444444444444444,
             "#26828e"
            ],
            [
             0.5555555555555556,
             "#1f9e89"
            ],
            [
             0.6666666666666666,
             "#35b779"
            ],
            [
             0.7777777777777778,
             "#6ece58"
            ],
            [
             0.8888888888888888,
             "#b5de2b"
            ],
            [
             1,
             "#fde725"
            ]
           ],
           "sequentialminus": [
            [
             0,
             "#440154"
            ],
            [
             0.1111111111111111,
             "#482878"
            ],
            [
             0.2222222222222222,
             "#3e4989"
            ],
            [
             0.3333333333333333,
             "#31688e"
            ],
            [
             0.4444444444444444,
             "#26828e"
            ],
            [
             0.5555555555555556,
             "#1f9e89"
            ],
            [
             0.6666666666666666,
             "#35b779"
            ],
            [
             0.7777777777777778,
             "#6ece58"
            ],
            [
             0.8888888888888888,
             "#b5de2b"
            ],
            [
             1,
             "#fde725"
            ]
           ]
          },
          "colorway": [
           "#1F77B4",
           "#FF7F0E",
           "#2CA02C",
           "#D62728",
           "#9467BD",
           "#8C564B",
           "#E377C2",
           "#7F7F7F",
           "#BCBD22",
           "#17BECF"
          ],
          "font": {
           "color": "rgb(36,36,36)"
          },
          "geo": {
           "bgcolor": "white",
           "lakecolor": "white",
           "landcolor": "white",
           "showlakes": true,
           "showland": true,
           "subunitcolor": "white"
          },
          "hoverlabel": {
           "align": "left"
          },
          "hovermode": "closest",
          "mapbox": {
           "style": "light"
          },
          "paper_bgcolor": "white",
          "plot_bgcolor": "white",
          "polar": {
           "angularaxis": {
            "gridcolor": "rgb(232,232,232)",
            "linecolor": "rgb(36,36,36)",
            "showgrid": false,
            "showline": true,
            "ticks": "outside"
           },
           "bgcolor": "white",
           "radialaxis": {
            "gridcolor": "rgb(232,232,232)",
            "linecolor": "rgb(36,36,36)",
            "showgrid": false,
            "showline": true,
            "ticks": "outside"
           }
          },
          "scene": {
           "xaxis": {
            "backgroundcolor": "white",
            "gridcolor": "rgb(232,232,232)",
            "gridwidth": 2,
            "linecolor": "rgb(36,36,36)",
            "showbackground": true,
            "showgrid": false,
            "showline": true,
            "ticks": "outside",
            "zeroline": false,
            "zerolinecolor": "rgb(36,36,36)"
           },
           "yaxis": {
            "backgroundcolor": "white",
            "gridcolor": "rgb(232,232,232)",
            "gridwidth": 2,
            "linecolor": "rgb(36,36,36)",
            "showbackground": true,
            "showgrid": false,
            "showline": true,
            "ticks": "outside",
            "zeroline": false,
            "zerolinecolor": "rgb(36,36,36)"
           },
           "zaxis": {
            "backgroundcolor": "white",
            "gridcolor": "rgb(232,232,232)",
            "gridwidth": 2,
            "linecolor": "rgb(36,36,36)",
            "showbackground": true,
            "showgrid": false,
            "showline": true,
            "ticks": "outside",
            "zeroline": false,
            "zerolinecolor": "rgb(36,36,36)"
           }
          },
          "shapedefaults": {
           "fillcolor": "black",
           "line": {
            "width": 0
           },
           "opacity": 0.3
          },
          "ternary": {
           "aaxis": {
            "gridcolor": "rgb(232,232,232)",
            "linecolor": "rgb(36,36,36)",
            "showgrid": false,
            "showline": true,
            "ticks": "outside"
           },
           "baxis": {
            "gridcolor": "rgb(232,232,232)",
            "linecolor": "rgb(36,36,36)",
            "showgrid": false,
            "showline": true,
            "ticks": "outside"
           },
           "bgcolor": "white",
           "caxis": {
            "gridcolor": "rgb(232,232,232)",
            "linecolor": "rgb(36,36,36)",
            "showgrid": false,
            "showline": true,
            "ticks": "outside"
           }
          },
          "title": {
           "x": 0.05
          },
          "xaxis": {
           "automargin": true,
           "gridcolor": "rgb(232,232,232)",
           "linecolor": "rgb(36,36,36)",
           "showgrid": false,
           "showline": true,
           "ticks": "outside",
           "title": {
            "standoff": 15
           },
           "zeroline": false,
           "zerolinecolor": "rgb(36,36,36)"
          },
          "yaxis": {
           "automargin": true,
           "gridcolor": "rgb(232,232,232)",
           "linecolor": "rgb(36,36,36)",
           "showgrid": false,
           "showline": true,
           "ticks": "outside",
           "title": {
            "standoff": 15
           },
           "zeroline": false,
           "zerolinecolor": "rgb(36,36,36)"
          }
         }
        },
        "width": 1000,
        "xaxis": {
         "anchor": "y",
         "domain": [
          0,
          0.45
         ]
        },
        "xaxis2": {
         "anchor": "y2",
         "domain": [
          0.55,
          1
         ]
        },
        "yaxis": {
         "anchor": "x",
         "domain": [
          0,
          1
         ]
        },
        "yaxis2": {
         "anchor": "x2",
         "domain": [
          0,
          1
         ]
        }
       },
       "_py2js_animate": {},
       "_py2js_deleteTraces": {},
       "_py2js_moveTraces": {},
       "_py2js_relayout": {},
       "_py2js_removeLayoutProps": {},
       "_py2js_removeTraceProps": {},
       "_view_count": 0
      }
     },
     "f6caa565ab1249dbba931203d5a53184": {
      "model_module": "@jupyter-widgets/base",
      "model_module_version": "1.2.0",
      "model_name": "LayoutModel",
      "state": {}
     },
     "fafec789da7c4d63a525052bf5b388e5": {
      "model_module": "@jupyter-widgets/base",
      "model_module_version": "1.2.0",
      "model_name": "LayoutModel",
      "state": {}
     }
    },
    "version_major": 2,
    "version_minor": 0
   }
  }
 },
 "nbformat": 4,
 "nbformat_minor": 1
}
